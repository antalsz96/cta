{
 "cells": [
  {
   "cell_type": "code",
   "execution_count": 96,
   "metadata": {},
   "outputs": [],
   "source": [
    "import fitz, csv, re\n",
    "import pandas as pd\n",
    "import numpy as np"
   ]
  },
  {
   "cell_type": "code",
   "execution_count": 4,
   "metadata": {},
   "outputs": [
    {
     "ename": "SyntaxError",
     "evalue": "(unicode error) 'unicodeescape' codec can't decode bytes in position 2-3: truncated \\UXXXXXXXX escape (2155448730.py, line 1)",
     "output_type": "error",
     "traceback": [
      "\u001b[1;36m  Input \u001b[1;32mIn [4]\u001b[1;36m\u001b[0m\n\u001b[1;33m    with fitz.open(\"C:\\Users\\User\\Desktop\\cta\\doc.pdf\") as doc:\u001b[0m\n\u001b[1;37m                                                      ^\u001b[0m\n\u001b[1;31mSyntaxError\u001b[0m\u001b[1;31m:\u001b[0m (unicode error) 'unicodeescape' codec can't decode bytes in position 2-3: truncated \\UXXXXXXXX escape\n"
     ]
    }
   ],
   "source": [
    "with fitz.open(\"C:\\Users\\User\\Desktop\\cta\\doc.pdf\") as doc:\n",
    "    for page in doc:\n",
    "        text=\"\"\n",
    "        text += page.get_text()"
   ]
  },
  {
   "cell_type": "code",
   "execution_count": 35,
   "metadata": {},
   "outputs": [],
   "source": [
    "df1=pd.read_fwf(\"doc_1.txt\")\n",
    "df2=pd.read_fwf(\"doc_2.txt\")\n",
    "#df2.to_csv(\"doc_2.csv\")"
   ]
  },
  {
   "cell_type": "code",
   "execution_count": 28,
   "metadata": {},
   "outputs": [
    {
     "data": {
      "text/plain": [
       "(array([], dtype=int64),)"
      ]
     },
     "execution_count": 28,
     "metadata": {},
     "output_type": "execute_result"
    }
   ],
   "source": [
    "np.where(df[\"Szegedi Tudományegyetem\"] == True)"
   ]
  },
  {
   "cell_type": "code",
   "execution_count": 285,
   "metadata": {},
   "outputs": [],
   "source": [
    "# def get_lab_param(file, lab_param):\n",
    "#     a=[]\n",
    "#     for i in range(file.shape[0]):\n",
    "#         if lab_param in file.loc[i][0] and \"dializált\" not in file.loc[i][0]:\n",
    "#             pattern=r'\\s{2,}'\n",
    "#             p=file.loc[i][0].replace(\",\",\".\")\n",
    "#             p=re.split(pattern,p)\n",
    "#             par=p[0]\n",
    "#             val=p[1]\n",
    "#             # return {i:p}\n",
    "#             a.append([i,{par:val}])\n",
    "#     return a"
   ]
  },
  {
   "cell_type": "code",
   "execution_count": 370,
   "metadata": {},
   "outputs": [],
   "source": [
    "# this is much more straightforward\n",
    "\n",
    "def get_lab_param(file, lab_param):\n",
    "    a={}\n",
    "    for i in range(file.shape[0]):\n",
    "        text=file.loc[i][0]\n",
    "        if lab_param in text and \"dializált\" not in text:\n",
    "            pattern=r'\\s{2,}'\n",
    "            p=text#.replace(\",\",\".\")\n",
    "            p=re.split(pattern,p)\n",
    "            par=p[0]\n",
    "            val=p[1]\n",
    "            # return {i:p}\n",
    "            # a[\"no\"]=i\n",
    "            if \"Tromboplasztin\" in par:\n",
    "                val=p[0].split(\" \")[3]\n",
    "            a[par]=val\n",
    "            \n",
    "    return a"
   ]
  },
  {
   "cell_type": "code",
   "execution_count": 371,
   "metadata": {},
   "outputs": [
    {
     "data": {
      "text/plain": [
       "{'Glükóz': '11,5',\n",
       " 'Szenzitív C-reaktív protein': '327,0',\n",
       " 'Troponin T (high sensitive)': '35',\n",
       " 'proBNP': '4668,0',\n",
       " 'Karbamid (Urea)': '14,4',\n",
       " 'Kreatinin': '119',\n",
       " 'eGFR-EPI': '37',\n",
       " 'Fehérvérsejt szám': '9,73',\n",
       " 'Protrombin INR': '1,19',\n",
       " 'Akt.Parciális Tromboplasztin Idõ 39,4': '39,4',\n",
       " 'Kvantitatív D-dimer': '2,25',\n",
       " 'Haemoglobin A1C': '58',\n",
       " 'Triglicerid': '1,08',\n",
       " 'LDL-koleszterin': '2,79'}"
      ]
     },
     "execution_count": 371,
     "metadata": {},
     "output_type": "execute_result"
    }
   ],
   "source": [
    "params=[\n",
    "    \"Glükóz\",\n",
    "    \"Szenzitív C-reaktív protein\",\n",
    "    \"Troponin T (high sensitive)\",\n",
    "    \"proBNP\",\n",
    "    \"Karbamid (Urea)\",\n",
    "    \"Kreatinin\",\n",
    "    \"eGFR-EPI\",\n",
    "    \"Fehérvérsejt szám\",\n",
    "    \"Protrombin INR\",\n",
    "    \"Akt.Parciális Tromboplasztin Idõ\",\n",
    "    \"Kvantitatív D-dimer\",\n",
    "    \"Haemoglobin A1C\",\n",
    "    \"Triglicerid\",\n",
    "    \"LDL-koleszterin\"\n",
    "]\n",
    "\n",
    "result={}\n",
    "for param in params:\n",
    "    \n",
    "    result.update(get_lab_param(df2, param))\n",
    "\n",
    "# result[1][0][1]\n",
    "result"
   ]
  },
  {
   "cell_type": "code",
   "execution_count": 378,
   "metadata": {},
   "outputs": [],
   "source": [
    "labs=pd.DataFrame(result, index=[0])\n",
    "labs.to_excel(\"labs.xlsx\")"
   ]
  },
  {
   "cell_type": "markdown",
   "metadata": {},
   "source": [
    "------------------------------------------------------------------------------------------------------------------------------------------\n",
    "------------------------------------------------------------------------------------------------------------------------------------------\n",
    "------------------------------------------------------------------------------------------------------------------------------------------\n",
    "------------------------------------------------------------------------------------------------------------------------------------------"
   ]
  },
  {
   "cell_type": "code",
   "execution_count": 226,
   "metadata": {},
   "outputs": [
    {
     "data": {
      "text/html": [
       "<div>\n",
       "<style scoped>\n",
       "    .dataframe tbody tr th:only-of-type {\n",
       "        vertical-align: middle;\n",
       "    }\n",
       "\n",
       "    .dataframe tbody tr th {\n",
       "        vertical-align: top;\n",
       "    }\n",
       "\n",
       "    .dataframe thead th {\n",
       "        text-align: right;\n",
       "    }\n",
       "</style>\n",
       "<table border=\"1\" class=\"dataframe\">\n",
       "  <thead>\n",
       "    <tr style=\"text-align: right;\">\n",
       "      <th></th>\n",
       "      <th>Glükóz</th>\n",
       "      <th>C-reaktív protein</th>\n",
       "      <th>Troponin T</th>\n",
       "      <th>proBNP</th>\n",
       "      <th>Urea</th>\n",
       "      <th>Kreatinin</th>\n",
       "      <th>eGFR</th>\n",
       "      <th>Fehérvérsejt</th>\n",
       "      <th>INR</th>\n",
       "      <th>Akt.Parciális Tromboplasztin Idõ</th>\n",
       "      <th>D-dimer</th>\n",
       "      <th>Haemoglobin A1C</th>\n",
       "      <th>Triglicerid</th>\n",
       "      <th>LDL-koleszterin</th>\n",
       "    </tr>\n",
       "  </thead>\n",
       "  <tbody>\n",
       "  </tbody>\n",
       "</table>\n",
       "</div>"
      ],
      "text/plain": [
       "Empty DataFrame\n",
       "Columns: [Glükóz, C-reaktív protein, Troponin T, proBNP, Urea, Kreatinin, eGFR, Fehérvérsejt, INR, Akt.Parciális Tromboplasztin Idõ, D-dimer, Haemoglobin A1C, Triglicerid, LDL-koleszterin]\n",
       "Index: []"
      ]
     },
     "execution_count": 226,
     "metadata": {},
     "output_type": "execute_result"
    }
   ],
   "source": [
    "cols=[\n",
    "    \"glu_first\",\n",
    "    \"CRP_first(mg/l)\",\n",
    "    \"TropT(ng/l)\",\n",
    "    \"proBNP(pg/ml)\",\n",
    "    \"BUN_precontrast(mmol/l)\",\n",
    "    \"Creat_precontrast(umol/l)\",\n",
    "    \"BUN_postcontrast(mmol/l)\",\n",
    "    \"Creat_postcontrast(umol/l)\",\n",
    "    \"eGFR(ml/min/tf)\",\n",
    "    \"WBC(G/l)\",\n",
    "    \"INR\",\n",
    "    \"APTI(s)\",\n",
    "    \"D-dimer(ug/ml)\",\n",
    "    \"HgbA1c(mmol/mol)\",\n",
    "    \"HgbA1c(%)\",\n",
    "    \"Triglicerid(mmol/l)\",\n",
    "    \"LDL-chol(mmol/l)\"\n",
    "]\n",
    "\n",
    "labs=pd.DataFrame(columns=params)\n",
    "labs"
   ]
  },
  {
   "cell_type": "code",
   "execution_count": 341,
   "metadata": {},
   "outputs": [
    {
     "data": {
      "text/plain": [
       "[{'Glükóz': '11.5'},\n",
       " {'Szenzitív C-reaktív protein': '15.7'},\n",
       " {'Troponin T (high sensitive)': '20'},\n",
       " {'proBNP': '4668.0'},\n",
       " {'Karbamid (Urea)': '11.5'},\n",
       " {'Kreatinin': '147'},\n",
       " {'eGFR-EPI': '29'},\n",
       " {'Fehérvérsejt szám': '10.86'},\n",
       " {'Protrombin INR': '1.19'},\n",
       " {'Akt.Parciális Tromboplasztin Idõ 39.4': 's'},\n",
       " {'Kvantitatív D-dimer': '2.25'},\n",
       " {'Haemoglobin A1C': '7.5'},\n",
       " {'Triglicerid': '1.08'},\n",
       " {'LDL-koleszterin': '2.79'}]"
      ]
     },
     "execution_count": 341,
     "metadata": {},
     "output_type": "execute_result"
    }
   ],
   "source": [
    "l=[]\n",
    "for i in range(len(params)):\n",
    "    if result[i]:\n",
    "        dict=result[i][0][1]\n",
    "        l.append(dict)\n",
    "l"
   ]
  },
  {
   "cell_type": "code",
   "execution_count": 336,
   "metadata": {},
   "outputs": [
    {
     "data": {
      "text/html": [
       "<div>\n",
       "<style scoped>\n",
       "    .dataframe tbody tr th:only-of-type {\n",
       "        vertical-align: middle;\n",
       "    }\n",
       "\n",
       "    .dataframe tbody tr th {\n",
       "        vertical-align: top;\n",
       "    }\n",
       "\n",
       "    .dataframe thead th {\n",
       "        text-align: right;\n",
       "    }\n",
       "</style>\n",
       "<table border=\"1\" class=\"dataframe\">\n",
       "  <thead>\n",
       "    <tr style=\"text-align: right;\">\n",
       "      <th></th>\n",
       "      <th>Glükóz</th>\n",
       "      <th>C-reaktív protein</th>\n",
       "      <th>Troponin T</th>\n",
       "      <th>proBNP</th>\n",
       "      <th>Urea</th>\n",
       "      <th>Kreatinin</th>\n",
       "      <th>eGFR</th>\n",
       "      <th>Fehérvérsejt</th>\n",
       "      <th>INR</th>\n",
       "      <th>Akt.Parciális Tromboplasztin Idõ</th>\n",
       "      <th>D-dimer</th>\n",
       "      <th>Haemoglobin A1C</th>\n",
       "      <th>Triglicerid</th>\n",
       "      <th>LDL-koleszterin</th>\n",
       "    </tr>\n",
       "  </thead>\n",
       "  <tbody>\n",
       "    <tr>\n",
       "      <th>0</th>\n",
       "      <td>NaN</td>\n",
       "      <td>NaN</td>\n",
       "      <td>NaN</td>\n",
       "      <td>NaN</td>\n",
       "      <td>NaN</td>\n",
       "      <td>NaN</td>\n",
       "      <td>NaN</td>\n",
       "      <td>NaN</td>\n",
       "      <td>NaN</td>\n",
       "      <td>NaN</td>\n",
       "      <td>NaN</td>\n",
       "      <td>NaN</td>\n",
       "      <td>NaN</td>\n",
       "      <td>2.79</td>\n",
       "    </tr>\n",
       "  </tbody>\n",
       "</table>\n",
       "</div>"
      ],
      "text/plain": [
       "  Glükóz C-reaktív protein Troponin T proBNP Urea Kreatinin eGFR Fehérvérsejt  \\\n",
       "0    NaN               NaN        NaN    NaN  NaN       NaN  NaN          NaN   \n",
       "\n",
       "   INR Akt.Parciális Tromboplasztin Idõ D-dimer Haemoglobin A1C Triglicerid  \\\n",
       "0  NaN                              NaN     NaN             NaN         NaN   \n",
       "\n",
       "  LDL-koleszterin  \n",
       "0            2.79  "
      ]
     },
     "execution_count": 336,
     "metadata": {},
     "output_type": "execute_result"
    }
   ],
   "source": [
    "labs.loc[0]="
   ]
  },
  {
   "cell_type": "code",
   "execution_count": 346,
   "metadata": {},
   "outputs": [
    {
     "name": "stdout",
     "output_type": "stream",
     "text": [
      "Glükóz 11.5\n",
      "Szenzitív C-reaktív protein 15.7\n",
      "Troponin T (high sensitive) 20\n",
      "proBNP 4668.0\n",
      "Karbamid (Urea) 11.5\n",
      "Kreatinin 147\n",
      "eGFR-EPI 29\n",
      "Fehérvérsejt szám 10.86\n",
      "Protrombin INR 1.19\n"
     ]
    }
   ],
   "source": [
    "# l[0][\"Glükóz\"]\n",
    "d={}\n",
    "try:\n",
    "    for i in range(len(params)):\n",
    "        for param in params:\n",
    "            value=l[i][param]\n",
    "            print(param,value)\n",
    "            d[param]=value\n",
    "            i+=1\n",
    "except KeyError:\n",
    "    i+=1"
   ]
  },
  {
   "cell_type": "code",
   "execution_count": 349,
   "metadata": {},
   "outputs": [
    {
     "data": {
      "text/html": [
       "<div>\n",
       "<style scoped>\n",
       "    .dataframe tbody tr th:only-of-type {\n",
       "        vertical-align: middle;\n",
       "    }\n",
       "\n",
       "    .dataframe tbody tr th {\n",
       "        vertical-align: top;\n",
       "    }\n",
       "\n",
       "    .dataframe thead th {\n",
       "        text-align: right;\n",
       "    }\n",
       "</style>\n",
       "<table border=\"1\" class=\"dataframe\">\n",
       "  <thead>\n",
       "    <tr style=\"text-align: right;\">\n",
       "      <th></th>\n",
       "      <th>Glükóz</th>\n",
       "      <th>Szenzitív C-reaktív protein</th>\n",
       "      <th>Troponin T (high sensitive)</th>\n",
       "      <th>proBNP</th>\n",
       "      <th>Karbamid (Urea)</th>\n",
       "      <th>Kreatinin</th>\n",
       "      <th>eGFR-EPI</th>\n",
       "      <th>Fehérvérsejt szám</th>\n",
       "      <th>Protrombin INR</th>\n",
       "    </tr>\n",
       "  </thead>\n",
       "  <tbody>\n",
       "    <tr>\n",
       "      <th>0</th>\n",
       "      <td>11.5</td>\n",
       "      <td>15.7</td>\n",
       "      <td>20</td>\n",
       "      <td>4668.0</td>\n",
       "      <td>11.5</td>\n",
       "      <td>147</td>\n",
       "      <td>29</td>\n",
       "      <td>10.86</td>\n",
       "      <td>1.19</td>\n",
       "    </tr>\n",
       "  </tbody>\n",
       "</table>\n",
       "</div>"
      ],
      "text/plain": [
       "  Glükóz Szenzitív C-reaktív protein Troponin T (high sensitive)  proBNP  \\\n",
       "0   11.5                        15.7                          20  4668.0   \n",
       "\n",
       "  Karbamid (Urea) Kreatinin eGFR-EPI Fehérvérsejt szám Protrombin INR  \n",
       "0            11.5       147       29             10.86           1.19  "
      ]
     },
     "execution_count": 349,
     "metadata": {},
     "output_type": "execute_result"
    }
   ],
   "source": [
    "pd.DataFrame(d, index=[0])"
   ]
  }
 ],
 "metadata": {
  "kernelspec": {
   "display_name": "Python 3.10.5 64-bit",
   "language": "python",
   "name": "python3"
  },
  "language_info": {
   "codemirror_mode": {
    "name": "ipython",
    "version": 3
   },
   "file_extension": ".py",
   "mimetype": "text/x-python",
   "name": "python",
   "nbconvert_exporter": "python",
   "pygments_lexer": "ipython3",
   "version": "3.10.5"
  },
  "orig_nbformat": 4,
  "vscode": {
   "interpreter": {
    "hash": "afb734500600fd355917ca529030176ea0ca205570884b88f2f6f7d791fd3fbe"
   }
  }
 },
 "nbformat": 4,
 "nbformat_minor": 2
}
