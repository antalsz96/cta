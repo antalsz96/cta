{
 "cells": [
  {
   "cell_type": "code",
   "execution_count": 1,
   "metadata": {},
   "outputs": [],
   "source": [
    "import fitz, csv, re, os\n",
    "import pandas as pd\n",
    "import numpy as np"
   ]
  },
  {
   "cell_type": "code",
   "execution_count": 6,
   "metadata": {},
   "outputs": [
    {
     "ename": "ValueError",
     "evalue": "Invalid file path or buffer object type: <class 'int'>",
     "output_type": "error",
     "traceback": [
      "\u001b[1;31m---------------------------------------------------------------------------\u001b[0m",
      "\u001b[1;31mValueError\u001b[0m                                Traceback (most recent call last)",
      "\u001b[1;32mc:\\Users\\User\\Desktop\\cta\\cta.ipynb Cell 2\u001b[0m in \u001b[0;36m<cell line: 5>\u001b[1;34m()\u001b[0m\n\u001b[0;32m      <a href='vscode-notebook-cell:/c%3A/Users/User/Desktop/cta/cta.ipynb#W1sZmlsZQ%3D%3D?line=2'>3</a>\u001b[0m fff\u001b[39m=\u001b[39m\u001b[39m\"\u001b[39m\u001b[39mC:\u001b[39m\u001b[39m\\\\\u001b[39;00m\u001b[39mUsers\u001b[39m\u001b[39m\\\\\u001b[39;00m\u001b[39mUser\u001b[39m\u001b[39m\\\\\u001b[39;00m\u001b[39mDesktop\u001b[39m\u001b[39m\\\\\u001b[39;00m\u001b[39mcta\u001b[39m\u001b[39m\\\\\u001b[39;00m\u001b[39mpatients\u001b[39m\u001b[39m\\\\\u001b[39;00m\u001b[39mnotion\u001b[39m\u001b[39m\\\\\u001b[39;00m\u001b[39m32fc9e32-5420-4ba6-be1c-9f95c9c6620c.pdf\u001b[39m\u001b[39m\"\u001b[39m\n\u001b[0;32m      <a href='vscode-notebook-cell:/c%3A/Users/User/Desktop/cta/cta.ipynb#W1sZmlsZQ%3D%3D?line=3'>4</a>\u001b[0m txt_fff\u001b[39m=\u001b[39mos\u001b[39m.\u001b[39msystem(\u001b[39mf\u001b[39m\u001b[39m\"\u001b[39m\u001b[39mptyhon -m fitz gettext \u001b[39m\u001b[39m{\u001b[39;00mfff\u001b[39m}\u001b[39;00m\u001b[39m\"\u001b[39m)\n\u001b[1;32m----> <a href='vscode-notebook-cell:/c%3A/Users/User/Desktop/cta/cta.ipynb#W1sZmlsZQ%3D%3D?line=4'>5</a>\u001b[0m df3\u001b[39m=\u001b[39mpd\u001b[39m.\u001b[39;49mread_fwf(txt_fff)\n",
      "File \u001b[1;32mc:\\Users\\User\\AppData\\Local\\Programs\\Python\\Python310\\lib\\site-packages\\pandas\\util\\_decorators.py:311\u001b[0m, in \u001b[0;36mdeprecate_nonkeyword_arguments.<locals>.decorate.<locals>.wrapper\u001b[1;34m(*args, **kwargs)\u001b[0m\n\u001b[0;32m    305\u001b[0m \u001b[39mif\u001b[39;00m \u001b[39mlen\u001b[39m(args) \u001b[39m>\u001b[39m num_allow_args:\n\u001b[0;32m    306\u001b[0m     warnings\u001b[39m.\u001b[39mwarn(\n\u001b[0;32m    307\u001b[0m         msg\u001b[39m.\u001b[39mformat(arguments\u001b[39m=\u001b[39marguments),\n\u001b[0;32m    308\u001b[0m         \u001b[39mFutureWarning\u001b[39;00m,\n\u001b[0;32m    309\u001b[0m         stacklevel\u001b[39m=\u001b[39mstacklevel,\n\u001b[0;32m    310\u001b[0m     )\n\u001b[1;32m--> 311\u001b[0m \u001b[39mreturn\u001b[39;00m func(\u001b[39m*\u001b[39margs, \u001b[39m*\u001b[39m\u001b[39m*\u001b[39mkwargs)\n",
      "File \u001b[1;32mc:\\Users\\User\\AppData\\Local\\Programs\\Python\\Python310\\lib\\site-packages\\pandas\\io\\parsers\\readers.py:875\u001b[0m, in \u001b[0;36mread_fwf\u001b[1;34m(filepath_or_buffer, colspecs, widths, infer_nrows, **kwds)\u001b[0m\n\u001b[0;32m    873\u001b[0m kwds[\u001b[39m\"\u001b[39m\u001b[39minfer_nrows\u001b[39m\u001b[39m\"\u001b[39m] \u001b[39m=\u001b[39m infer_nrows\n\u001b[0;32m    874\u001b[0m kwds[\u001b[39m\"\u001b[39m\u001b[39mengine\u001b[39m\u001b[39m\"\u001b[39m] \u001b[39m=\u001b[39m \u001b[39m\"\u001b[39m\u001b[39mpython-fwf\u001b[39m\u001b[39m\"\u001b[39m\n\u001b[1;32m--> 875\u001b[0m \u001b[39mreturn\u001b[39;00m _read(filepath_or_buffer, kwds)\n",
      "File \u001b[1;32mc:\\Users\\User\\AppData\\Local\\Programs\\Python\\Python310\\lib\\site-packages\\pandas\\io\\parsers\\readers.py:575\u001b[0m, in \u001b[0;36m_read\u001b[1;34m(filepath_or_buffer, kwds)\u001b[0m\n\u001b[0;32m    572\u001b[0m _validate_names(kwds\u001b[39m.\u001b[39mget(\u001b[39m\"\u001b[39m\u001b[39mnames\u001b[39m\u001b[39m\"\u001b[39m, \u001b[39mNone\u001b[39;00m))\n\u001b[0;32m    574\u001b[0m \u001b[39m# Create the parser.\u001b[39;00m\n\u001b[1;32m--> 575\u001b[0m parser \u001b[39m=\u001b[39m TextFileReader(filepath_or_buffer, \u001b[39m*\u001b[39m\u001b[39m*\u001b[39mkwds)\n\u001b[0;32m    577\u001b[0m \u001b[39mif\u001b[39;00m chunksize \u001b[39mor\u001b[39;00m iterator:\n\u001b[0;32m    578\u001b[0m     \u001b[39mreturn\u001b[39;00m parser\n",
      "File \u001b[1;32mc:\\Users\\User\\AppData\\Local\\Programs\\Python\\Python310\\lib\\site-packages\\pandas\\io\\parsers\\readers.py:932\u001b[0m, in \u001b[0;36mTextFileReader.__init__\u001b[1;34m(self, f, engine, **kwds)\u001b[0m\n\u001b[0;32m    929\u001b[0m     \u001b[39mself\u001b[39m\u001b[39m.\u001b[39moptions[\u001b[39m\"\u001b[39m\u001b[39mhas_index_names\u001b[39m\u001b[39m\"\u001b[39m] \u001b[39m=\u001b[39m kwds[\u001b[39m\"\u001b[39m\u001b[39mhas_index_names\u001b[39m\u001b[39m\"\u001b[39m]\n\u001b[0;32m    931\u001b[0m \u001b[39mself\u001b[39m\u001b[39m.\u001b[39mhandles: IOHandles \u001b[39m|\u001b[39m \u001b[39mNone\u001b[39;00m \u001b[39m=\u001b[39m \u001b[39mNone\u001b[39;00m\n\u001b[1;32m--> 932\u001b[0m \u001b[39mself\u001b[39m\u001b[39m.\u001b[39m_engine \u001b[39m=\u001b[39m \u001b[39mself\u001b[39;49m\u001b[39m.\u001b[39;49m_make_engine(f, \u001b[39mself\u001b[39;49m\u001b[39m.\u001b[39;49mengine)\n",
      "File \u001b[1;32mc:\\Users\\User\\AppData\\Local\\Programs\\Python\\Python310\\lib\\site-packages\\pandas\\io\\parsers\\readers.py:1216\u001b[0m, in \u001b[0;36mTextFileReader._make_engine\u001b[1;34m(self, f, engine)\u001b[0m\n\u001b[0;32m   1212\u001b[0m     mode \u001b[39m=\u001b[39m \u001b[39m\"\u001b[39m\u001b[39mrb\u001b[39m\u001b[39m\"\u001b[39m\n\u001b[0;32m   1213\u001b[0m \u001b[39m# error: No overload variant of \"get_handle\" matches argument types\u001b[39;00m\n\u001b[0;32m   1214\u001b[0m \u001b[39m# \"Union[str, PathLike[str], ReadCsvBuffer[bytes], ReadCsvBuffer[str]]\"\u001b[39;00m\n\u001b[0;32m   1215\u001b[0m \u001b[39m# , \"str\", \"bool\", \"Any\", \"Any\", \"Any\", \"Any\", \"Any\"\u001b[39;00m\n\u001b[1;32m-> 1216\u001b[0m \u001b[39mself\u001b[39m\u001b[39m.\u001b[39mhandles \u001b[39m=\u001b[39m get_handle(  \u001b[39m# type: ignore[call-overload]\u001b[39;49;00m\n\u001b[0;32m   1217\u001b[0m     f,\n\u001b[0;32m   1218\u001b[0m     mode,\n\u001b[0;32m   1219\u001b[0m     encoding\u001b[39m=\u001b[39;49m\u001b[39mself\u001b[39;49m\u001b[39m.\u001b[39;49moptions\u001b[39m.\u001b[39;49mget(\u001b[39m\"\u001b[39;49m\u001b[39mencoding\u001b[39;49m\u001b[39m\"\u001b[39;49m, \u001b[39mNone\u001b[39;49;00m),\n\u001b[0;32m   1220\u001b[0m     compression\u001b[39m=\u001b[39;49m\u001b[39mself\u001b[39;49m\u001b[39m.\u001b[39;49moptions\u001b[39m.\u001b[39;49mget(\u001b[39m\"\u001b[39;49m\u001b[39mcompression\u001b[39;49m\u001b[39m\"\u001b[39;49m, \u001b[39mNone\u001b[39;49;00m),\n\u001b[0;32m   1221\u001b[0m     memory_map\u001b[39m=\u001b[39;49m\u001b[39mself\u001b[39;49m\u001b[39m.\u001b[39;49moptions\u001b[39m.\u001b[39;49mget(\u001b[39m\"\u001b[39;49m\u001b[39mmemory_map\u001b[39;49m\u001b[39m\"\u001b[39;49m, \u001b[39mFalse\u001b[39;49;00m),\n\u001b[0;32m   1222\u001b[0m     is_text\u001b[39m=\u001b[39;49mis_text,\n\u001b[0;32m   1223\u001b[0m     errors\u001b[39m=\u001b[39;49m\u001b[39mself\u001b[39;49m\u001b[39m.\u001b[39;49moptions\u001b[39m.\u001b[39;49mget(\u001b[39m\"\u001b[39;49m\u001b[39mencoding_errors\u001b[39;49m\u001b[39m\"\u001b[39;49m, \u001b[39m\"\u001b[39;49m\u001b[39mstrict\u001b[39;49m\u001b[39m\"\u001b[39;49m),\n\u001b[0;32m   1224\u001b[0m     storage_options\u001b[39m=\u001b[39;49m\u001b[39mself\u001b[39;49m\u001b[39m.\u001b[39;49moptions\u001b[39m.\u001b[39;49mget(\u001b[39m\"\u001b[39;49m\u001b[39mstorage_options\u001b[39;49m\u001b[39m\"\u001b[39;49m, \u001b[39mNone\u001b[39;49;00m),\n\u001b[0;32m   1225\u001b[0m )\n\u001b[0;32m   1226\u001b[0m \u001b[39massert\u001b[39;00m \u001b[39mself\u001b[39m\u001b[39m.\u001b[39mhandles \u001b[39mis\u001b[39;00m \u001b[39mnot\u001b[39;00m \u001b[39mNone\u001b[39;00m\n\u001b[0;32m   1227\u001b[0m f \u001b[39m=\u001b[39m \u001b[39mself\u001b[39m\u001b[39m.\u001b[39mhandles\u001b[39m.\u001b[39mhandle\n",
      "File \u001b[1;32mc:\\Users\\User\\AppData\\Local\\Programs\\Python\\Python310\\lib\\site-packages\\pandas\\io\\common.py:667\u001b[0m, in \u001b[0;36mget_handle\u001b[1;34m(path_or_buf, mode, encoding, compression, memory_map, is_text, errors, storage_options)\u001b[0m\n\u001b[0;32m    664\u001b[0m     codecs\u001b[39m.\u001b[39mlookup_error(errors)\n\u001b[0;32m    666\u001b[0m \u001b[39m# open URLs\u001b[39;00m\n\u001b[1;32m--> 667\u001b[0m ioargs \u001b[39m=\u001b[39m _get_filepath_or_buffer(\n\u001b[0;32m    668\u001b[0m     path_or_buf,\n\u001b[0;32m    669\u001b[0m     encoding\u001b[39m=\u001b[39;49mencoding,\n\u001b[0;32m    670\u001b[0m     compression\u001b[39m=\u001b[39;49mcompression,\n\u001b[0;32m    671\u001b[0m     mode\u001b[39m=\u001b[39;49mmode,\n\u001b[0;32m    672\u001b[0m     storage_options\u001b[39m=\u001b[39;49mstorage_options,\n\u001b[0;32m    673\u001b[0m )\n\u001b[0;32m    675\u001b[0m handle \u001b[39m=\u001b[39m ioargs\u001b[39m.\u001b[39mfilepath_or_buffer\n\u001b[0;32m    676\u001b[0m handles: \u001b[39mlist\u001b[39m[BaseBuffer]\n",
      "File \u001b[1;32mc:\\Users\\User\\AppData\\Local\\Programs\\Python\\Python310\\lib\\site-packages\\pandas\\io\\common.py:424\u001b[0m, in \u001b[0;36m_get_filepath_or_buffer\u001b[1;34m(filepath_or_buffer, encoding, compression, mode, storage_options)\u001b[0m\n\u001b[0;32m    420\u001b[0m \u001b[39mif\u001b[39;00m \u001b[39mnot\u001b[39;00m (\n\u001b[0;32m    421\u001b[0m     \u001b[39mhasattr\u001b[39m(filepath_or_buffer, \u001b[39m\"\u001b[39m\u001b[39mread\u001b[39m\u001b[39m\"\u001b[39m) \u001b[39mor\u001b[39;00m \u001b[39mhasattr\u001b[39m(filepath_or_buffer, \u001b[39m\"\u001b[39m\u001b[39mwrite\u001b[39m\u001b[39m\"\u001b[39m)\n\u001b[0;32m    422\u001b[0m ):\n\u001b[0;32m    423\u001b[0m     msg \u001b[39m=\u001b[39m \u001b[39mf\u001b[39m\u001b[39m\"\u001b[39m\u001b[39mInvalid file path or buffer object type: \u001b[39m\u001b[39m{\u001b[39;00m\u001b[39mtype\u001b[39m(filepath_or_buffer)\u001b[39m}\u001b[39;00m\u001b[39m\"\u001b[39m\n\u001b[1;32m--> 424\u001b[0m     \u001b[39mraise\u001b[39;00m \u001b[39mValueError\u001b[39;00m(msg)\n\u001b[0;32m    426\u001b[0m \u001b[39mreturn\u001b[39;00m IOArgs(\n\u001b[0;32m    427\u001b[0m     filepath_or_buffer\u001b[39m=\u001b[39mfilepath_or_buffer,\n\u001b[0;32m    428\u001b[0m     encoding\u001b[39m=\u001b[39mencoding,\n\u001b[1;32m   (...)\u001b[0m\n\u001b[0;32m    431\u001b[0m     mode\u001b[39m=\u001b[39mmode,\n\u001b[0;32m    432\u001b[0m )\n",
      "\u001b[1;31mValueError\u001b[0m: Invalid file path or buffer object type: <class 'int'>"
     ]
    }
   ],
   "source": [
    "# df1=pd.read_fwf(\"doc_1.txt\")\n",
    "# df2=pd.read_fwf(\"doc_2.txt\")\n",
    "fff=\"C:\\\\Users\\\\User\\\\Desktop\\\\cta\\\\patients\\\\notion\\\\32fc9e32-5420-4ba6-be1c-9f95c9c6620c.pdf\"\n",
    "txt_fff=os.system(f\"ptyhon -m fitz gettext {fff}\")\n",
    "df3=pd.read_fwf(txt_fff)"
   ]
  },
  {
   "cell_type": "code",
   "execution_count": 42,
   "metadata": {},
   "outputs": [
    {
     "data": {
      "text/html": [
       "<div>\n",
       "<style scoped>\n",
       "    .dataframe tbody tr th:only-of-type {\n",
       "        vertical-align: middle;\n",
       "    }\n",
       "\n",
       "    .dataframe tbody tr th {\n",
       "        vertical-align: top;\n",
       "    }\n",
       "\n",
       "    .dataframe thead th {\n",
       "        text-align: right;\n",
       "    }\n",
       "</style>\n",
       "<table border=\"1\" class=\"dataframe\">\n",
       "  <thead>\n",
       "    <tr style=\"text-align: right;\">\n",
       "      <th></th>\n",
       "      <th>Szegedi Tudományegyetem</th>\n",
       "      <th>Unnamed: 1</th>\n",
       "    </tr>\n",
       "  </thead>\n",
       "  <tbody>\n",
       "    <tr>\n",
       "      <th>0</th>\n",
       "      <td>Szent-Györgyi Albert Klinikai Központ</td>\n",
       "      <td>NaN</td>\n",
       "    </tr>\n",
       "    <tr>\n",
       "      <th>1</th>\n",
       "      <td>064410999   Neurológiai Klinika</td>\n",
       "      <td>NaN</td>\n",
       "    </tr>\n",
       "    <tr>\n",
       "      <th>2</th>\n",
       "      <td>6725 Szeged Semmelweis u. 6.</td>\n",
       "      <td>NaN</td>\n",
       "    </tr>\n",
       "    <tr>\n",
       "      <th>3</th>\n",
       "      <td>Igazgató:  Dr. Klivényi Péter</td>\n",
       "      <td>NaN</td>\n",
       "    </tr>\n",
       "    <tr>\n",
       "      <th>4</th>\n",
       "      <td>Tel.: 62/343-400                  FAX: 62/545-597</td>\n",
       "      <td>NaN</td>\n",
       "    </tr>\n",
       "    <tr>\n",
       "      <th>...</th>\n",
       "      <td>...</td>\n",
       "      <td>...</td>\n",
       "    </tr>\n",
       "    <tr>\n",
       "      <th>557</th>\n",
       "      <td>A zárójelentést õrizze meg, ha ismét kórházba ...</td>\n",
       "      <td>NaN</td>\n",
       "    </tr>\n",
       "    <tr>\n",
       "      <th>558</th>\n",
       "      <td>Kérem, leletével jelentkezzen családi vagy kez...</td>\n",
       "      <td>NaN</td>\n",
       "    </tr>\n",
       "    <tr>\n",
       "      <th>559</th>\n",
       "      <td>A zárójelentés 2 példányát átvettem.</td>\n",
       "      <td>NaN</td>\n",
       "    </tr>\n",
       "    <tr>\n",
       "      <th>560</th>\n",
       "      <td>e-MedSolution                                 ...</td>\n",
       "      <td>10</td>\n",
       "    </tr>\n",
       "    <tr>\n",
       "      <th>561</th>\n",
       "      <td>Róvó Józsefné - Esetszám: 55231099            ...</td>\n",
       "      <td>08:20</td>\n",
       "    </tr>\n",
       "  </tbody>\n",
       "</table>\n",
       "<p>562 rows × 2 columns</p>\n",
       "</div>"
      ],
      "text/plain": [
       "                               Szegedi Tudományegyetem Unnamed: 1\n",
       "0                Szent-Györgyi Albert Klinikai Központ        NaN\n",
       "1                      064410999   Neurológiai Klinika        NaN\n",
       "2                         6725 Szeged Semmelweis u. 6.        NaN\n",
       "3                        Igazgató:  Dr. Klivényi Péter        NaN\n",
       "4    Tel.: 62/343-400                  FAX: 62/545-597        NaN\n",
       "..                                                 ...        ...\n",
       "557  A zárójelentést õrizze meg, ha ismét kórházba ...        NaN\n",
       "558  Kérem, leletével jelentkezzen családi vagy kez...        NaN\n",
       "559               A zárójelentés 2 példányát átvettem.        NaN\n",
       "560  e-MedSolution                                 ...         10\n",
       "561  Róvó Józsefné - Esetszám: 55231099            ...      08:20\n",
       "\n",
       "[562 rows x 2 columns]"
      ]
     },
     "execution_count": 42,
     "metadata": {},
     "output_type": "execute_result"
    }
   ],
   "source": [
    "df3"
   ]
  },
  {
   "cell_type": "code",
   "execution_count": 28,
   "metadata": {},
   "outputs": [
    {
     "data": {
      "text/plain": [
       "(array([], dtype=int64),)"
      ]
     },
     "execution_count": 28,
     "metadata": {},
     "output_type": "execute_result"
    }
   ],
   "source": [
    "np.where(df[\"Szegedi Tudományegyetem\"] == True)"
   ]
  },
  {
   "cell_type": "code",
   "execution_count": 10,
   "metadata": {},
   "outputs": [
    {
     "data": {
      "text/plain": [
       "0"
      ]
     },
     "execution_count": 10,
     "metadata": {},
     "output_type": "execute_result"
    }
   ],
   "source": [
    "os.system(\"python -m fitz gettext test/013360816.pdf\")"
   ]
  },
  {
   "cell_type": "code",
   "execution_count": 67,
   "metadata": {},
   "outputs": [],
   "source": [
    "def get_ident(file):\n",
    "    a={}\n",
    "    with open(file, encoding=\"utf8\") as f:\n",
    "        text=f.read()\n",
    "        taj_pattern=r'\\d{3}-\\d{3}-\\d{3}'\n",
    "        dob_pattern=r'Szül.dátum:\\s+\\d{4}.\\d{2}.\\d{2}'\n",
    "        adm_date_pattern=r'Felvételi dátum.:\\s+\\d{4}.\\d{2}.\\d{2}'\n",
    "        sex_pattern=r'Születési név...:\\s\\S+'\n",
    "        bno_pattern=r'[A-Z]\\d{2,}[A-Z]?\\d*'\n",
    "        beav_pattern=r' \\d{5} '\n",
    "        nihss_pattern=r'NI?HSS: \\d+'\n",
    "        mrs_pattern=r'mRS: \\d+'\n",
    "        rr_pattern=r'RR:\\s*\\d+/\\d+'\n",
    "        pulse_pattern=r'P:\\s*\\d+'\n",
    "        \n",
    "\n",
    "        taj=re.findall(taj_pattern, text)\n",
    "        taj=taj[0].replace(\"-\",\"\")\n",
    "        \n",
    "        dob=re.findall(dob_pattern, text)[0]\n",
    "        dob=dob.split()[1]\n",
    "\n",
    "        adm_date=re.findall(adm_date_pattern, text)[0]\n",
    "        adm_date=adm_date.split(\":\")[1]\n",
    "\n",
    "        bno_list=re.findall(bno_pattern, text)\n",
    "\n",
    "        beav_list=re.findall(beav_pattern, text)\n",
    "        for i in range(len(beav_list)):\n",
    "            new_item=beav_list[i].replace(\" \",\"\")\n",
    "            beav_list[i]=new_item\n",
    "                    \n",
    "        try:\n",
    "            nihss=re.findall(nihss_pattern, text)[0]\n",
    "            nihss=nihss.split()[1]\n",
    "        except IndexError:\n",
    "            nihss=None\n",
    "\n",
    "        try:\n",
    "            mrs=re.findall(mrs_pattern, text)[0]\n",
    "            mrs=mrs.split()[1]\n",
    "        except IndexError:\n",
    "            mrs=None\n",
    "\n",
    "        try:\n",
    "            rr=re.findall(rr_pattern, text)[0]\n",
    "            rr=rr.split()[1]\n",
    "        except IndexError:\n",
    "            rr=None\n",
    "\n",
    "        try:\n",
    "            pulse=re.findall(pulse_pattern, text)[0]\n",
    "            pulse=pulse.split()[1]\n",
    "        except IndexError:\n",
    "            pulse=None\n",
    "\n",
    "        a[\"Patient_ID\"]=taj\n",
    "        a[\"DOB\"]=dob\n",
    "        a[\"Admission_date\"]=adm_date\n",
    "        try:\n",
    "            sex=re.findall(sex_pattern, text)[0]\n",
    "            a[\"Sex\"]=\"female\"\n",
    "        except IndexError:\n",
    "            a[\"Sex\"]=\"male\"\n",
    "\n",
    "        if \"I48H0\" not in bno_list:\n",
    "            a[\"AF\"]=\"no\"\n",
    "        else:\n",
    "            a[\"AF\"]=\"known/recent\"\n",
    "\n",
    "        if \"06042\" in beav_list:\n",
    "            a[\"Alteplase\"]=\"yes\"\n",
    "\n",
    "        if rr:\n",
    "            a[\"RR sys\"]=rr.split(\"/\")[0]\n",
    "            a[\"RR dia\"]=rr.split(\"/\")[1]\n",
    "        a[\"P\"]=pulse\n",
    "        a[\"NIHSS\"]=nihss\n",
    "        a[\"mRS\"]=mrs\n",
    "\n",
    "    return a\n"
   ]
  },
  {
   "cell_type": "code",
   "execution_count": 68,
   "metadata": {},
   "outputs": [
    {
     "data": {
      "text/plain": [
       "{'Patient_ID': '013360816',\n",
       " 'DOB': '1947.03.07',\n",
       " 'Admission_date': ' 2021.09.17',\n",
       " 'Sex': 'male',\n",
       " 'AF': 'no',\n",
       " 'P': '84',\n",
       " 'NIHSS': None,\n",
       " 'mRS': None}"
      ]
     },
     "execution_count": 68,
     "metadata": {},
     "output_type": "execute_result"
    }
   ],
   "source": [
    "d=get_ident(\"test\\\\013360816.txt\")\n",
    "d"
   ]
  },
  {
   "cell_type": "code",
   "execution_count": 83,
   "metadata": {},
   "outputs": [],
   "source": [
    "def get_echo(file):\n",
    "    regs=[\n",
    "        r\"Echo\\w+\\s?\\(?\\d{4}\\.?\\d{2}?\\.?\\d{2}?\\.?.*\",\n",
    "        r\"Ao\\w*:?\\s+\\d*-?\\d*-?\\d*-?\",\n",
    "        r\"B\\w+\\s?\\w*:\\s+\\d+\\s*\\w+\",\n",
    "        r\"EDD:\\s+\\d+\",\n",
    "        r\"ESD:\\s+\\d+\",\n",
    "        r\"EDV:\\s+\\d+\",\n",
    "        r\"ESV:\\s+\\d+\",\n",
    "        r\"EF:\\s+\\d+\",\n",
    "        r\"IVS:\\s+\\d+\",\n",
    "        r\"PW:\\s+\\d+\",\n",
    "        r\"TAPSE:\\s+\\d+\",\n",
    "        r\"E/?A: \\d+/\\d+\"\n",
    "    ]\n",
    "    a={}\n",
    "    for reg in regs:\n",
    "        with open(file, encoding=\"utf8\") as f:\n",
    "            text=f.read()\n",
    "            match=re.findall(reg, text)[0]\n",
    "            # print(match)\n",
    "\n",
    "            dates=re.findall(r'\\d{4}\\.?\\d{2}?\\.?\\d{2}?',match)\n",
    "            if dates:\n",
    "                a[\"date\"]=dates[0]\n",
    "\n",
    "            # if \"Ao\" in match:\n",
    "            #     a[\"Aorta\"]=re.split(r'\\s+', match)[1]\n",
    "\n",
    "            if not \"Echo\" in match:\n",
    "                par=match.split(\":\")[0]\n",
    "                val=match.split(\" \")[-1]\n",
    "                a[par]=val\n",
    "\n",
    "    return a"
   ]
  },
  {
   "cell_type": "code",
   "execution_count": 84,
   "metadata": {},
   "outputs": [
    {
     "data": {
      "text/plain": [
       "{'date': '2021.09.06',\n",
       " 'Aorta': '21-30-25',\n",
       " 'Bal pitvar': '42x44x50',\n",
       " 'EDD': '43',\n",
       " 'ESD': '28',\n",
       " 'EDV': '83',\n",
       " 'ESV': '29',\n",
       " 'EF': '65',\n",
       " 'IVS': '10',\n",
       " 'PW': '10',\n",
       " 'TAPSE': '20',\n",
       " 'E/A': '50/71'}"
      ]
     },
     "execution_count": 84,
     "metadata": {},
     "output_type": "execute_result"
    }
   ],
   "source": [
    "get_echo(\"patients\\\\notion\\\\67efc844-644f-40cf-af5e-632dadb29d78.txt\")"
   ]
  },
  {
   "cell_type": "code",
   "execution_count": 28,
   "metadata": {},
   "outputs": [
    {
     "name": "stdout",
     "output_type": "stream",
     "text": [
      "['101-441-151']\n"
     ]
    }
   ],
   "source": [
    "# with open(\"doc_3.txt\", encoding=\"utf8\") as f:\n",
    "#         text=f.read()\n",
    "#         taj_pattern=r'\\d{3}-\\d{3}-\\d{3}'\n",
    "#         taj=re.findall(taj_pattern, text)\n",
    "#         # taj=taj.replace(\"-\",\"\")\n",
    "#         print(taj)"
   ]
  },
  {
   "cell_type": "code",
   "execution_count": 285,
   "metadata": {},
   "outputs": [],
   "source": [
    "# def get_lab_param(file, lab_param):\n",
    "#     a=[]\n",
    "#     for i in range(file.shape[0]):\n",
    "#         if lab_param in file.loc[i][0] and \"dializált\" not in file.loc[i][0]:\n",
    "#             pattern=r'\\s{2,}'\n",
    "#             p=file.loc[i][0].replace(\",\",\".\")\n",
    "#             p=re.split(pattern,p)\n",
    "#             par=p[0]\n",
    "#             val=p[1]\n",
    "#             # return {i:p}\n",
    "#             a.append([i,{par:val}])\n",
    "#     return a"
   ]
  },
  {
   "cell_type": "code",
   "execution_count": 16,
   "metadata": {},
   "outputs": [],
   "source": [
    "# this is much more straightforward\n",
    "\n",
    "def get_lab_param(file, lab_param):\n",
    "    a={}\n",
    "    l=[]\n",
    "    for i in range(file.shape[0]):\n",
    "        text=file.loc[i][0]\n",
    "        if lab_param in text:\n",
    "            pattern=r'\\s{2,}'\n",
    "            p=text#.replace(\",\",\".\")\n",
    "            p=re.split(pattern,p)\n",
    "            # print(p)\n",
    "            par=p[0]\n",
    "            try:\n",
    "                val=p[1]\n",
    "                l.append(val)\n",
    "            except IndexError: pass\n",
    "            # return {i:p}\n",
    "            # a[\"no\"]=i\n",
    "            # if \"Tromboplasztin\" in par:\n",
    "            #     val=p[0].split(\" \")[3]\n",
    "            a[par]=l\n",
    "            \n",
    "    return a\n",
    "\n",
    "# def get_lab_param(file, lab_param):\n",
    "#     a={}\n",
    "#     with open(file, encoding=\"utf8\") as f:\n",
    "#         text=f.read()\n",
    "#         if lab_param in text:\n",
    "#             pattern=r'\\s{2,}'\n",
    "#             p=text#.replace(\",\",\".\")\n",
    "#             p=re.split(pattern,p)\n",
    "#             par=p[0]\n",
    "#             val=p[1]\n",
    "#             # return {i:p}\n",
    "#             # a[\"no\"]=i\n",
    "#             a[par]=val\n",
    "            \n",
    "#     return a"
   ]
  },
  {
   "cell_type": "code",
   "execution_count": 12,
   "metadata": {},
   "outputs": [
    {
     "data": {
      "text/plain": [
       "{'Akt.Parciális Tromboplasztin Idõ 32,3': '32,3'}"
      ]
     },
     "execution_count": 12,
     "metadata": {},
     "output_type": "execute_result"
    }
   ],
   "source": [
    "a={}\n",
    "for i in range(df3.shape[0]):\n",
    "    text=df3.loc[i][0]\n",
    "    # try:\n",
    "    if \"Tromboplasztin\" in text:\n",
    "        pattern=r'\\s{2,}'\n",
    "        p=text#.replace(\",\",\".\")\n",
    "        p=re.split(pattern,p)\n",
    "        # print(p[1])\n",
    "        par=p[0]\n",
    "        val=p[1]\n",
    "        # return {i:p}\n",
    "        # a[\"no\"]=i\n",
    "        if \"Tromboplasztin\" in par:\n",
    "            try:\n",
    "                # val=p[0].split(\" \")[3]\n",
    "                vals=re.findall(r'\\d*[,.]?\\d*', par)\n",
    "                for i in vals:\n",
    "                    if i != \"\":\n",
    "                        val=i\n",
    "            except IndexError: pass\n",
    "        a[par]=val\n",
    "    # except IndexError:\n",
    "    #     continue\n",
    "a"
   ]
  },
  {
   "cell_type": "code",
   "execution_count": 11,
   "metadata": {},
   "outputs": [],
   "source": [
    "df4=pd.read_fwf(\"test/013360816.txt\")"
   ]
  },
  {
   "cell_type": "code",
   "execution_count": 33,
   "metadata": {},
   "outputs": [
    {
     "name": "stderr",
     "output_type": "stream",
     "text": [
      "C:\\Users\\User\\AppData\\Local\\Temp\\ipykernel_6880\\1184593441.py:28: FutureWarning: The default dtype for empty Series will be 'object' instead of 'float64' in a future version. Specify a dtype explicitly to silence this warning.\n",
      "  s2=pd.Series(s)\n",
      "C:\\Users\\User\\AppData\\Local\\Temp\\ipykernel_6880\\1184593441.py:28: FutureWarning: The default dtype for empty Series will be 'object' instead of 'float64' in a future version. Specify a dtype explicitly to silence this warning.\n",
      "  s2=pd.Series(s)\n",
      "C:\\Users\\User\\AppData\\Local\\Temp\\ipykernel_6880\\1184593441.py:28: FutureWarning: The default dtype for empty Series will be 'object' instead of 'float64' in a future version. Specify a dtype explicitly to silence this warning.\n",
      "  s2=pd.Series(s)\n"
     ]
    }
   ],
   "source": [
    "params=[\n",
    "    \"Glükóz\",\n",
    "    \"Szenzitív C-reaktív protein\",\n",
    "    \"Troponin T (high sensitive)\",\n",
    "    \"proBNP  \",\n",
    "    \"Karbamid (Urea)\",\n",
    "    \"Kreatinin\",\n",
    "    \"eGFR-EPI  \",\n",
    "    \"Fehérvérsejt szám\",\n",
    "    \"Protrombin INR\",\n",
    "    \"Akt.Parciális Tromboplasztin Idõ\",\n",
    "    \"Kvantitatív D-dimer\",\n",
    "    \"Haemoglobin A1C\",\n",
    "    \"Triglicerid\",\n",
    "    \"LDL-koleszterin\"\n",
    "]\n",
    "\n",
    "result={}\n",
    "# result.update(get_ident(\"doc_2.txt\"))\n",
    "ss=[]\n",
    "for param in params:\n",
    "    \n",
    "    # result.update(get_lab_param(df4, param))\n",
    "    # x=get_lab_param(df4, param)\n",
    "    # print(x)\n",
    "    # s=get_lab_param(df4, param)\n",
    "    # param=param[0:3]\n",
    "    # s2=pd.Series(s)\n",
    "    # exec(f\"{param}_s = s2\")\n",
    "    # ss.append(f\"{param}_s\")\n",
    "\n",
    "# for item in list(result.items()):\n",
    "#     if \"Glükóz\" in item[0]:\n",
    "#         print(item)"
   ]
  },
  {
   "cell_type": "code",
   "execution_count": 19,
   "metadata": {},
   "outputs": [
    {
     "ename": "ValueError",
     "evalue": "All arrays must be of the same length",
     "output_type": "error",
     "traceback": [
      "\u001b[1;31m---------------------------------------------------------------------------\u001b[0m",
      "\u001b[1;31mValueError\u001b[0m                                Traceback (most recent call last)",
      "\u001b[1;32mc:\\Users\\User\\Desktop\\cta\\cta.ipynb Cell 17\u001b[0m in \u001b[0;36m<cell line: 1>\u001b[1;34m()\u001b[0m\n\u001b[1;32m----> <a href='vscode-notebook-cell:/c%3A/Users/User/Desktop/cta/cta.ipynb#X21sZmlsZQ%3D%3D?line=0'>1</a>\u001b[0m rdf\u001b[39m=\u001b[39mpd\u001b[39m.\u001b[39;49mDataFrame(result)\n",
      "File \u001b[1;32mc:\\Users\\User\\AppData\\Local\\Programs\\Python\\Python310\\lib\\site-packages\\pandas\\core\\frame.py:636\u001b[0m, in \u001b[0;36mDataFrame.__init__\u001b[1;34m(self, data, index, columns, dtype, copy)\u001b[0m\n\u001b[0;32m    630\u001b[0m     mgr \u001b[39m=\u001b[39m \u001b[39mself\u001b[39m\u001b[39m.\u001b[39m_init_mgr(\n\u001b[0;32m    631\u001b[0m         data, axes\u001b[39m=\u001b[39m{\u001b[39m\"\u001b[39m\u001b[39mindex\u001b[39m\u001b[39m\"\u001b[39m: index, \u001b[39m\"\u001b[39m\u001b[39mcolumns\u001b[39m\u001b[39m\"\u001b[39m: columns}, dtype\u001b[39m=\u001b[39mdtype, copy\u001b[39m=\u001b[39mcopy\n\u001b[0;32m    632\u001b[0m     )\n\u001b[0;32m    634\u001b[0m \u001b[39melif\u001b[39;00m \u001b[39misinstance\u001b[39m(data, \u001b[39mdict\u001b[39m):\n\u001b[0;32m    635\u001b[0m     \u001b[39m# GH#38939 de facto copy defaults to False only in non-dict cases\u001b[39;00m\n\u001b[1;32m--> 636\u001b[0m     mgr \u001b[39m=\u001b[39m dict_to_mgr(data, index, columns, dtype\u001b[39m=\u001b[39;49mdtype, copy\u001b[39m=\u001b[39;49mcopy, typ\u001b[39m=\u001b[39;49mmanager)\n\u001b[0;32m    637\u001b[0m \u001b[39melif\u001b[39;00m \u001b[39misinstance\u001b[39m(data, ma\u001b[39m.\u001b[39mMaskedArray):\n\u001b[0;32m    638\u001b[0m     \u001b[39mimport\u001b[39;00m \u001b[39mnumpy\u001b[39;00m\u001b[39m.\u001b[39;00m\u001b[39mma\u001b[39;00m\u001b[39m.\u001b[39;00m\u001b[39mmrecords\u001b[39;00m \u001b[39mas\u001b[39;00m \u001b[39mmrecords\u001b[39;00m\n",
      "File \u001b[1;32mc:\\Users\\User\\AppData\\Local\\Programs\\Python\\Python310\\lib\\site-packages\\pandas\\core\\internals\\construction.py:502\u001b[0m, in \u001b[0;36mdict_to_mgr\u001b[1;34m(data, index, columns, dtype, typ, copy)\u001b[0m\n\u001b[0;32m    494\u001b[0m     arrays \u001b[39m=\u001b[39m [\n\u001b[0;32m    495\u001b[0m         x\n\u001b[0;32m    496\u001b[0m         \u001b[39mif\u001b[39;00m \u001b[39mnot\u001b[39;00m \u001b[39mhasattr\u001b[39m(x, \u001b[39m\"\u001b[39m\u001b[39mdtype\u001b[39m\u001b[39m\"\u001b[39m) \u001b[39mor\u001b[39;00m \u001b[39mnot\u001b[39;00m \u001b[39misinstance\u001b[39m(x\u001b[39m.\u001b[39mdtype, ExtensionDtype)\n\u001b[0;32m    497\u001b[0m         \u001b[39melse\u001b[39;00m x\u001b[39m.\u001b[39mcopy()\n\u001b[0;32m    498\u001b[0m         \u001b[39mfor\u001b[39;00m x \u001b[39min\u001b[39;00m arrays\n\u001b[0;32m    499\u001b[0m     ]\n\u001b[0;32m    500\u001b[0m     \u001b[39m# TODO: can we get rid of the dt64tz special case above?\u001b[39;00m\n\u001b[1;32m--> 502\u001b[0m \u001b[39mreturn\u001b[39;00m arrays_to_mgr(arrays, columns, index, dtype\u001b[39m=\u001b[39;49mdtype, typ\u001b[39m=\u001b[39;49mtyp, consolidate\u001b[39m=\u001b[39;49mcopy)\n",
      "File \u001b[1;32mc:\\Users\\User\\AppData\\Local\\Programs\\Python\\Python310\\lib\\site-packages\\pandas\\core\\internals\\construction.py:120\u001b[0m, in \u001b[0;36marrays_to_mgr\u001b[1;34m(arrays, columns, index, dtype, verify_integrity, typ, consolidate)\u001b[0m\n\u001b[0;32m    117\u001b[0m \u001b[39mif\u001b[39;00m verify_integrity:\n\u001b[0;32m    118\u001b[0m     \u001b[39m# figure out the index, if necessary\u001b[39;00m\n\u001b[0;32m    119\u001b[0m     \u001b[39mif\u001b[39;00m index \u001b[39mis\u001b[39;00m \u001b[39mNone\u001b[39;00m:\n\u001b[1;32m--> 120\u001b[0m         index \u001b[39m=\u001b[39m _extract_index(arrays)\n\u001b[0;32m    121\u001b[0m     \u001b[39melse\u001b[39;00m:\n\u001b[0;32m    122\u001b[0m         index \u001b[39m=\u001b[39m ensure_index(index)\n",
      "File \u001b[1;32mc:\\Users\\User\\AppData\\Local\\Programs\\Python\\Python310\\lib\\site-packages\\pandas\\core\\internals\\construction.py:674\u001b[0m, in \u001b[0;36m_extract_index\u001b[1;34m(data)\u001b[0m\n\u001b[0;32m    672\u001b[0m lengths \u001b[39m=\u001b[39m \u001b[39mlist\u001b[39m(\u001b[39mset\u001b[39m(raw_lengths))\n\u001b[0;32m    673\u001b[0m \u001b[39mif\u001b[39;00m \u001b[39mlen\u001b[39m(lengths) \u001b[39m>\u001b[39m \u001b[39m1\u001b[39m:\n\u001b[1;32m--> 674\u001b[0m     \u001b[39mraise\u001b[39;00m \u001b[39mValueError\u001b[39;00m(\u001b[39m\"\u001b[39m\u001b[39mAll arrays must be of the same length\u001b[39m\u001b[39m\"\u001b[39m)\n\u001b[0;32m    676\u001b[0m \u001b[39mif\u001b[39;00m have_dicts:\n\u001b[0;32m    677\u001b[0m     \u001b[39mraise\u001b[39;00m \u001b[39mValueError\u001b[39;00m(\n\u001b[0;32m    678\u001b[0m         \u001b[39m\"\u001b[39m\u001b[39mMixing dicts with non-Series may lead to ambiguous ordering.\u001b[39m\u001b[39m\"\u001b[39m\n\u001b[0;32m    679\u001b[0m     )\n",
      "\u001b[1;31mValueError\u001b[0m: All arrays must be of the same length"
     ]
    }
   ],
   "source": [
    "rdf=pd.DataFrame(result)"
   ]
  },
  {
   "cell_type": "code",
   "execution_count": 235,
   "metadata": {},
   "outputs": [
    {
     "data": {
      "text/plain": [
       "0    5135,0\n",
       "Name: proBNP, dtype: object"
      ]
     },
     "execution_count": 235,
     "metadata": {},
     "output_type": "execute_result"
    }
   ],
   "source": [
    "labs=pd.DataFrame(result, index=[0])\n",
    "labs[\"proBNP\"]#.to_excel(\"labs.xlsx\")"
   ]
  },
  {
   "cell_type": "markdown",
   "metadata": {},
   "source": [
    "------------------------------------------------------------------------------------------------------------------------------------------\n",
    "------------------------------------------------------------------------------------------------------------------------------------------\n",
    "------------------------------------------------------------------------------------------------------------------------------------------\n",
    "------------------------------------------------------------------------------------------------------------------------------------------"
   ]
  },
  {
   "cell_type": "code",
   "execution_count": 226,
   "metadata": {},
   "outputs": [
    {
     "data": {
      "text/html": [
       "<div>\n",
       "<style scoped>\n",
       "    .dataframe tbody tr th:only-of-type {\n",
       "        vertical-align: middle;\n",
       "    }\n",
       "\n",
       "    .dataframe tbody tr th {\n",
       "        vertical-align: top;\n",
       "    }\n",
       "\n",
       "    .dataframe thead th {\n",
       "        text-align: right;\n",
       "    }\n",
       "</style>\n",
       "<table border=\"1\" class=\"dataframe\">\n",
       "  <thead>\n",
       "    <tr style=\"text-align: right;\">\n",
       "      <th></th>\n",
       "      <th>Glükóz</th>\n",
       "      <th>C-reaktív protein</th>\n",
       "      <th>Troponin T</th>\n",
       "      <th>proBNP</th>\n",
       "      <th>Urea</th>\n",
       "      <th>Kreatinin</th>\n",
       "      <th>eGFR</th>\n",
       "      <th>Fehérvérsejt</th>\n",
       "      <th>INR</th>\n",
       "      <th>Akt.Parciális Tromboplasztin Idõ</th>\n",
       "      <th>D-dimer</th>\n",
       "      <th>Haemoglobin A1C</th>\n",
       "      <th>Triglicerid</th>\n",
       "      <th>LDL-koleszterin</th>\n",
       "    </tr>\n",
       "  </thead>\n",
       "  <tbody>\n",
       "  </tbody>\n",
       "</table>\n",
       "</div>"
      ],
      "text/plain": [
       "Empty DataFrame\n",
       "Columns: [Glükóz, C-reaktív protein, Troponin T, proBNP, Urea, Kreatinin, eGFR, Fehérvérsejt, INR, Akt.Parciális Tromboplasztin Idõ, D-dimer, Haemoglobin A1C, Triglicerid, LDL-koleszterin]\n",
       "Index: []"
      ]
     },
     "execution_count": 226,
     "metadata": {},
     "output_type": "execute_result"
    }
   ],
   "source": [
    "cols=[\n",
    "    \"glu_first\",\n",
    "    \"CRP_first(mg/l)\",\n",
    "    \"TropT(ng/l)\",\n",
    "    \"proBNP(pg/ml)\",\n",
    "    \"BUN_precontrast(mmol/l)\",\n",
    "    \"Creat_precontrast(umol/l)\",\n",
    "    \"BUN_postcontrast(mmol/l)\",\n",
    "    \"Creat_postcontrast(umol/l)\",\n",
    "    \"eGFR(ml/min/tf)\",\n",
    "    \"WBC(G/l)\",\n",
    "    \"INR\",\n",
    "    \"APTI(s)\",\n",
    "    \"D-dimer(ug/ml)\",\n",
    "    \"HgbA1c(mmol/mol)\",\n",
    "    \"HgbA1c(%)\",\n",
    "    \"Triglicerid(mmol/l)\",\n",
    "    \"LDL-chol(mmol/l)\"\n",
    "]\n",
    "\n",
    "labs=pd.DataFrame(columns=params)\n",
    "labs"
   ]
  },
  {
   "cell_type": "code",
   "execution_count": 341,
   "metadata": {},
   "outputs": [
    {
     "data": {
      "text/plain": [
       "[{'Glükóz': '11.5'},\n",
       " {'Szenzitív C-reaktív protein': '15.7'},\n",
       " {'Troponin T (high sensitive)': '20'},\n",
       " {'proBNP': '4668.0'},\n",
       " {'Karbamid (Urea)': '11.5'},\n",
       " {'Kreatinin': '147'},\n",
       " {'eGFR-EPI': '29'},\n",
       " {'Fehérvérsejt szám': '10.86'},\n",
       " {'Protrombin INR': '1.19'},\n",
       " {'Akt.Parciális Tromboplasztin Idõ 39.4': 's'},\n",
       " {'Kvantitatív D-dimer': '2.25'},\n",
       " {'Haemoglobin A1C': '7.5'},\n",
       " {'Triglicerid': '1.08'},\n",
       " {'LDL-koleszterin': '2.79'}]"
      ]
     },
     "execution_count": 341,
     "metadata": {},
     "output_type": "execute_result"
    }
   ],
   "source": [
    "l=[]\n",
    "for i in range(len(params)):\n",
    "    if result[i]:\n",
    "        dict=result[i][0][1]\n",
    "        l.append(dict)\n",
    "l"
   ]
  },
  {
   "cell_type": "code",
   "execution_count": 336,
   "metadata": {},
   "outputs": [
    {
     "data": {
      "text/html": [
       "<div>\n",
       "<style scoped>\n",
       "    .dataframe tbody tr th:only-of-type {\n",
       "        vertical-align: middle;\n",
       "    }\n",
       "\n",
       "    .dataframe tbody tr th {\n",
       "        vertical-align: top;\n",
       "    }\n",
       "\n",
       "    .dataframe thead th {\n",
       "        text-align: right;\n",
       "    }\n",
       "</style>\n",
       "<table border=\"1\" class=\"dataframe\">\n",
       "  <thead>\n",
       "    <tr style=\"text-align: right;\">\n",
       "      <th></th>\n",
       "      <th>Glükóz</th>\n",
       "      <th>C-reaktív protein</th>\n",
       "      <th>Troponin T</th>\n",
       "      <th>proBNP</th>\n",
       "      <th>Urea</th>\n",
       "      <th>Kreatinin</th>\n",
       "      <th>eGFR</th>\n",
       "      <th>Fehérvérsejt</th>\n",
       "      <th>INR</th>\n",
       "      <th>Akt.Parciális Tromboplasztin Idõ</th>\n",
       "      <th>D-dimer</th>\n",
       "      <th>Haemoglobin A1C</th>\n",
       "      <th>Triglicerid</th>\n",
       "      <th>LDL-koleszterin</th>\n",
       "    </tr>\n",
       "  </thead>\n",
       "  <tbody>\n",
       "    <tr>\n",
       "      <th>0</th>\n",
       "      <td>NaN</td>\n",
       "      <td>NaN</td>\n",
       "      <td>NaN</td>\n",
       "      <td>NaN</td>\n",
       "      <td>NaN</td>\n",
       "      <td>NaN</td>\n",
       "      <td>NaN</td>\n",
       "      <td>NaN</td>\n",
       "      <td>NaN</td>\n",
       "      <td>NaN</td>\n",
       "      <td>NaN</td>\n",
       "      <td>NaN</td>\n",
       "      <td>NaN</td>\n",
       "      <td>2.79</td>\n",
       "    </tr>\n",
       "  </tbody>\n",
       "</table>\n",
       "</div>"
      ],
      "text/plain": [
       "  Glükóz C-reaktív protein Troponin T proBNP Urea Kreatinin eGFR Fehérvérsejt  \\\n",
       "0    NaN               NaN        NaN    NaN  NaN       NaN  NaN          NaN   \n",
       "\n",
       "   INR Akt.Parciális Tromboplasztin Idõ D-dimer Haemoglobin A1C Triglicerid  \\\n",
       "0  NaN                              NaN     NaN             NaN         NaN   \n",
       "\n",
       "  LDL-koleszterin  \n",
       "0            2.79  "
      ]
     },
     "execution_count": 336,
     "metadata": {},
     "output_type": "execute_result"
    }
   ],
   "source": [
    "labs.loc[0]="
   ]
  },
  {
   "cell_type": "code",
   "execution_count": 346,
   "metadata": {},
   "outputs": [
    {
     "name": "stdout",
     "output_type": "stream",
     "text": [
      "Glükóz 11.5\n",
      "Szenzitív C-reaktív protein 15.7\n",
      "Troponin T (high sensitive) 20\n",
      "proBNP 4668.0\n",
      "Karbamid (Urea) 11.5\n",
      "Kreatinin 147\n",
      "eGFR-EPI 29\n",
      "Fehérvérsejt szám 10.86\n",
      "Protrombin INR 1.19\n"
     ]
    }
   ],
   "source": [
    "# l[0][\"Glükóz\"]\n",
    "d={}\n",
    "try:\n",
    "    for i in range(len(params)):\n",
    "        for param in params:\n",
    "            value=l[i][param]\n",
    "            print(param,value)\n",
    "            d[param]=value\n",
    "            i+=1\n",
    "except KeyError:\n",
    "    i+=1"
   ]
  },
  {
   "cell_type": "code",
   "execution_count": 349,
   "metadata": {},
   "outputs": [
    {
     "data": {
      "text/html": [
       "<div>\n",
       "<style scoped>\n",
       "    .dataframe tbody tr th:only-of-type {\n",
       "        vertical-align: middle;\n",
       "    }\n",
       "\n",
       "    .dataframe tbody tr th {\n",
       "        vertical-align: top;\n",
       "    }\n",
       "\n",
       "    .dataframe thead th {\n",
       "        text-align: right;\n",
       "    }\n",
       "</style>\n",
       "<table border=\"1\" class=\"dataframe\">\n",
       "  <thead>\n",
       "    <tr style=\"text-align: right;\">\n",
       "      <th></th>\n",
       "      <th>Glükóz</th>\n",
       "      <th>Szenzitív C-reaktív protein</th>\n",
       "      <th>Troponin T (high sensitive)</th>\n",
       "      <th>proBNP</th>\n",
       "      <th>Karbamid (Urea)</th>\n",
       "      <th>Kreatinin</th>\n",
       "      <th>eGFR-EPI</th>\n",
       "      <th>Fehérvérsejt szám</th>\n",
       "      <th>Protrombin INR</th>\n",
       "    </tr>\n",
       "  </thead>\n",
       "  <tbody>\n",
       "    <tr>\n",
       "      <th>0</th>\n",
       "      <td>11.5</td>\n",
       "      <td>15.7</td>\n",
       "      <td>20</td>\n",
       "      <td>4668.0</td>\n",
       "      <td>11.5</td>\n",
       "      <td>147</td>\n",
       "      <td>29</td>\n",
       "      <td>10.86</td>\n",
       "      <td>1.19</td>\n",
       "    </tr>\n",
       "  </tbody>\n",
       "</table>\n",
       "</div>"
      ],
      "text/plain": [
       "  Glükóz Szenzitív C-reaktív protein Troponin T (high sensitive)  proBNP  \\\n",
       "0   11.5                        15.7                          20  4668.0   \n",
       "\n",
       "  Karbamid (Urea) Kreatinin eGFR-EPI Fehérvérsejt szám Protrombin INR  \n",
       "0            11.5       147       29             10.86           1.19  "
      ]
     },
     "execution_count": 349,
     "metadata": {},
     "output_type": "execute_result"
    }
   ],
   "source": [
    "pd.DataFrame(d, index=[0])"
   ]
  },
  {
   "cell_type": "code",
   "execution_count": 83,
   "metadata": {},
   "outputs": [
    {
     "name": "stdout",
     "output_type": "stream",
     "text": [
      "{'format': 'PDF 1.3', 'title': '', 'author': '', 'subject': '', 'keywords': '', 'creator': '', 'producer': 'ISH Medsolution report generator.', 'creationDate': '', 'modDate': '', 'trapped': '', 'encryption': None}\n"
     ]
    }
   ],
   "source": [
    "with fitz.open(\"doc_3.pdf\") as doc:\n",
    "    print(doc.metadata)\n",
    "    # for key in doc.xref_get_keys(xref=1):\n",
    "    #     print(key, \"=\" , doc.xref_get_key(xref=1, key=key))\n",
    "    # xref=doc.xref_stream_raw(xref=1)\n",
    "    \n",
    "\n",
    "# print(xref)"
   ]
  },
  {
   "cell_type": "code",
   "execution_count": 178,
   "metadata": {},
   "outputs": [
    {
     "name": "stdout",
     "output_type": "stream",
     "text": [
      "doc_1\n",
      "doc_2\n",
      "doc_3\n"
     ]
    }
   ],
   "source": [
    "import glob\n",
    "path = os.getcwd()\n",
    "for txt in glob.glob(f\"{path}/*.txt\"):\n",
    "    print(txt.split(\"\\\\\")[-1].split(\".\")[0])"
   ]
  },
  {
   "cell_type": "code",
   "execution_count": null,
   "metadata": {},
   "outputs": [],
   "source": [
    "import requests\n",
    "\n",
    "x = requests.get('http://http://ish.szote.u-szeged.hu/ems2', timeout=3)\n",
    "print(x.status_code)"
   ]
  },
  {
   "cell_type": "code",
   "execution_count": 193,
   "metadata": {},
   "outputs": [
    {
     "name": "stdout",
     "output_type": "stream",
     "text": [
      "['I6390', 'I6600', 'I6720', 'I48H0', 'I2520', 'E1080', 'I10H0', 'E7800', 'Z2980']\n"
     ]
    }
   ],
   "source": [
    "with open(\"doc_2.txt\", encoding=\"utf8\") as f:\n",
    "    text=f.read()\n",
    "    bno_pattern=r'[A-Z]\\d{2,}[A-Z]?\\d*'\n",
    "    print(re.findall(bno_pattern, text))"
   ]
  },
  {
   "cell_type": "code",
   "execution_count": 9,
   "metadata": {},
   "outputs": [
    {
     "data": {
      "text/html": [
       "<div>\n",
       "<style scoped>\n",
       "    .dataframe tbody tr th:only-of-type {\n",
       "        vertical-align: middle;\n",
       "    }\n",
       "\n",
       "    .dataframe tbody tr th {\n",
       "        vertical-align: top;\n",
       "    }\n",
       "\n",
       "    .dataframe thead th {\n",
       "        text-align: right;\n",
       "    }\n",
       "</style>\n",
       "<table border=\"1\" class=\"dataframe\">\n",
       "  <thead>\n",
       "    <tr style=\"text-align: right;\">\n",
       "      <th></th>\n",
       "      <th>0</th>\n",
       "    </tr>\n",
       "  </thead>\n",
       "  <tbody>\n",
       "    <tr>\n",
       "      <th>0</th>\n",
       "      <td>013032157</td>\n",
       "    </tr>\n",
       "    <tr>\n",
       "      <th>1</th>\n",
       "      <td>015877493</td>\n",
       "    </tr>\n",
       "    <tr>\n",
       "      <th>2</th>\n",
       "      <td>013757030</td>\n",
       "    </tr>\n",
       "    <tr>\n",
       "      <th>3</th>\n",
       "      <td>076931051</td>\n",
       "    </tr>\n",
       "    <tr>\n",
       "      <th>4</th>\n",
       "      <td>056132292</td>\n",
       "    </tr>\n",
       "    <tr>\n",
       "      <th>...</th>\n",
       "      <td>...</td>\n",
       "    </tr>\n",
       "    <tr>\n",
       "      <th>880</th>\n",
       "      <td>063061817</td>\n",
       "    </tr>\n",
       "    <tr>\n",
       "      <th>881</th>\n",
       "      <td>102965744</td>\n",
       "    </tr>\n",
       "    <tr>\n",
       "      <th>882</th>\n",
       "      <td>063447196</td>\n",
       "    </tr>\n",
       "    <tr>\n",
       "      <th>883</th>\n",
       "      <td>102884265</td>\n",
       "    </tr>\n",
       "    <tr>\n",
       "      <th>884</th>\n",
       "      <td>072827628</td>\n",
       "    </tr>\n",
       "  </tbody>\n",
       "</table>\n",
       "<p>885 rows × 1 columns</p>\n",
       "</div>"
      ],
      "text/plain": [
       "             0\n",
       "0    013032157\n",
       "1    015877493\n",
       "2    013757030\n",
       "3    076931051\n",
       "4    056132292\n",
       "..         ...\n",
       "880  063061817\n",
       "881  102965744\n",
       "882  063447196\n",
       "883  102884265\n",
       "884  072827628\n",
       "\n",
       "[885 rows x 1 columns]"
      ]
     },
     "execution_count": 9,
     "metadata": {},
     "output_type": "execute_result"
    }
   ],
   "source": [
    "df = pd.read_csv(\"test/2021_09_2022_07.csv\")\n",
    "taj=df[\"TAJ\"].unique()\n",
    "l=pd.DataFrame(taj)\n",
    "l.to_excel(\"unique\")"
   ]
  },
  {
   "cell_type": "code",
   "execution_count": 15,
   "metadata": {},
   "outputs": [
    {
     "data": {
      "text/plain": [
       "'20220317'"
      ]
     },
     "execution_count": 15,
     "metadata": {},
     "output_type": "execute_result"
    }
   ],
   "source": [
    "import pydicom as dicom\n",
    "\n",
    "ds = dicom.read_file(\"test/S0000001/O0000001\")\n",
    "ds.StudyDate"
   ]
  },
  {
   "cell_type": "code",
   "execution_count": 10,
   "metadata": {},
   "outputs": [
    {
     "name": "stderr",
     "output_type": "stream",
     "text": [
      "c:\\Users\\User\\AppData\\Local\\Programs\\Python\\Python310\\lib\\site-packages\\openpyxl\\worksheet\\_reader.py:312: UserWarning: Data Validation extension is not supported and will be removed\n",
      "  warn(msg)\n"
     ]
    },
    {
     "data": {
      "text/html": [
       "<div>\n",
       "<style scoped>\n",
       "    .dataframe tbody tr th:only-of-type {\n",
       "        vertical-align: middle;\n",
       "    }\n",
       "\n",
       "    .dataframe tbody tr th {\n",
       "        vertical-align: top;\n",
       "    }\n",
       "\n",
       "    .dataframe thead th {\n",
       "        text-align: right;\n",
       "    }\n",
       "</style>\n",
       "<table border=\"1\" class=\"dataframe\">\n",
       "  <thead>\n",
       "    <tr style=\"text-align: right;\">\n",
       "      <th></th>\n",
       "      <th>No.</th>\n",
       "      <th>Patient_ID</th>\n",
       "      <th>DOB</th>\n",
       "      <th>Admission_date</th>\n",
       "      <th>Sex</th>\n",
       "      <th>Age(yrs)</th>\n",
       "      <th>Prev_stroke/TIA/thromboembolia</th>\n",
       "      <th>AF(known/new)</th>\n",
       "      <th>pangásos SZE / kard.dekomp.</th>\n",
       "      <th>vascular disease</th>\n",
       "      <th>...</th>\n",
       "      <th>Ao_insuff</th>\n",
       "      <th>Pulm_insuff</th>\n",
       "      <th>Pulm_pressure</th>\n",
       "      <th>Mitr_insuff</th>\n",
       "      <th>Tricusp_insuff</th>\n",
       "      <th>Hemorrh_post</th>\n",
       "      <th>Emissio</th>\n",
       "      <th>Cause_of_death</th>\n",
       "      <th>NIHSS_emiss</th>\n",
       "      <th>Comment</th>\n",
       "    </tr>\n",
       "  </thead>\n",
       "  <tbody>\n",
       "    <tr>\n",
       "      <th>0</th>\n",
       "      <td>1</td>\n",
       "      <td>59161963</td>\n",
       "      <td>1942-05-28</td>\n",
       "      <td>2022-07-23</td>\n",
       "      <td>female</td>\n",
       "      <td>80.0</td>\n",
       "      <td>no</td>\n",
       "      <td>recent</td>\n",
       "      <td>no</td>\n",
       "      <td>no</td>\n",
       "      <td>...</td>\n",
       "      <td>jelzett</td>\n",
       "      <td>NaN</td>\n",
       "      <td>50</td>\n",
       "      <td>II</td>\n",
       "      <td>II-III</td>\n",
       "      <td>hemorrh_transf</td>\n",
       "      <td>other_hosp</td>\n",
       "      <td>NaN</td>\n",
       "      <td>17.0</td>\n",
       "      <td>mélyvénába belógó, mutatóujj nagyságú thrombus...</td>\n",
       "    </tr>\n",
       "    <tr>\n",
       "      <th>1</th>\n",
       "      <td>2</td>\n",
       "      <td>19310534</td>\n",
       "      <td>1955-01-14</td>\n",
       "      <td>2022-03-07</td>\n",
       "      <td>male</td>\n",
       "      <td>67.0</td>\n",
       "      <td>TIA</td>\n",
       "      <td>no</td>\n",
       "      <td>no</td>\n",
       "      <td>no</td>\n",
       "      <td>...</td>\n",
       "      <td>II-III</td>\n",
       "      <td>kicsi</td>\n",
       "      <td>48+cvp</td>\n",
       "      <td>jelzett</td>\n",
       "      <td>I-II</td>\n",
       "      <td>NaN</td>\n",
       "      <td>home</td>\n",
       "      <td>NaN</td>\n",
       "      <td>NaN</td>\n",
       "      <td>PD, chr WM laesiok</td>\n",
       "    </tr>\n",
       "    <tr>\n",
       "      <th>2</th>\n",
       "      <td>3</td>\n",
       "      <td>26642983</td>\n",
       "      <td>1966-04-08</td>\n",
       "      <td>2022-03-25</td>\n",
       "      <td>male</td>\n",
       "      <td>55.0</td>\n",
       "      <td>kmn</td>\n",
       "      <td>no</td>\n",
       "      <td>no</td>\n",
       "      <td>no</td>\n",
       "      <td>...</td>\n",
       "      <td>NaN</td>\n",
       "      <td>NaN</td>\n",
       "      <td>NaN</td>\n",
       "      <td>NaN</td>\n",
       "      <td>NaN</td>\n",
       "      <td>NaN</td>\n",
       "      <td>home</td>\n",
       "      <td>NaN</td>\n",
       "      <td>0.0</td>\n",
       "      <td>PFO, paradox embolizáció, Leiden és protrombin...</td>\n",
       "    </tr>\n",
       "    <tr>\n",
       "      <th>3</th>\n",
       "      <td>4</td>\n",
       "      <td>59230988</td>\n",
       "      <td>1942-07-09</td>\n",
       "      <td>2022-03-28</td>\n",
       "      <td>female</td>\n",
       "      <td>79.0</td>\n",
       "      <td>TIA</td>\n",
       "      <td>known</td>\n",
       "      <td>yes</td>\n",
       "      <td>yes</td>\n",
       "      <td>...</td>\n",
       "      <td>I</td>\n",
       "      <td>közepes</td>\n",
       "      <td>33+15</td>\n",
       "      <td>I-II</td>\n",
       "      <td>I</td>\n",
       "      <td>NaN</td>\n",
       "      <td>home</td>\n",
       "      <td>NaN</td>\n",
       "      <td>NaN</td>\n",
       "      <td>bal ACI plakk/thrombus</td>\n",
       "    </tr>\n",
       "    <tr>\n",
       "      <th>4</th>\n",
       "      <td>5</td>\n",
       "      <td>101441151</td>\n",
       "      <td>1933-06-15</td>\n",
       "      <td>2022-03-29</td>\n",
       "      <td>female</td>\n",
       "      <td>88.0</td>\n",
       "      <td>kmn</td>\n",
       "      <td>no</td>\n",
       "      <td>yes</td>\n",
       "      <td>yes</td>\n",
       "      <td>...</td>\n",
       "      <td>II</td>\n",
       "      <td>NaN</td>\n",
       "      <td>26+cvp</td>\n",
       "      <td>III</td>\n",
       "      <td>I</td>\n",
       "      <td>NaN</td>\n",
       "      <td>died</td>\n",
       "      <td>other</td>\n",
       "      <td>NaN</td>\n",
       "      <td>agyi hypoperfusio</td>\n",
       "    </tr>\n",
       "  </tbody>\n",
       "</table>\n",
       "<p>5 rows × 89 columns</p>\n",
       "</div>"
      ],
      "text/plain": [
       "   No.  Patient_ID        DOB Admission_date     Sex  Age(yrs)  \\\n",
       "0    1    59161963 1942-05-28     2022-07-23  female      80.0   \n",
       "1    2    19310534 1955-01-14     2022-03-07    male      67.0   \n",
       "2    3    26642983 1966-04-08     2022-03-25    male      55.0   \n",
       "3    4    59230988 1942-07-09     2022-03-28  female      79.0   \n",
       "4    5   101441151 1933-06-15     2022-03-29  female      88.0   \n",
       "\n",
       "  Prev_stroke/TIA/thromboembolia AF(known/new) pangásos SZE / kard.dekomp.  \\\n",
       "0                             no        recent                          no   \n",
       "1                            TIA            no                          no   \n",
       "2                            kmn            no                          no   \n",
       "3                            TIA         known                         yes   \n",
       "4                            kmn            no                         yes   \n",
       "\n",
       "  vascular disease  ... Ao_insuff Pulm_insuff Pulm_pressure Mitr_insuff  \\\n",
       "0               no  ...   jelzett         NaN            50          II   \n",
       "1               no  ...    II-III       kicsi        48+cvp     jelzett   \n",
       "2               no  ...       NaN         NaN           NaN         NaN   \n",
       "3              yes  ...         I     közepes         33+15        I-II   \n",
       "4              yes  ...        II         NaN        26+cvp         III   \n",
       "\n",
       "  Tricusp_insuff    Hemorrh_post     Emissio Cause_of_death NIHSS_emiss  \\\n",
       "0         II-III  hemorrh_transf  other_hosp            NaN        17.0   \n",
       "1           I-II             NaN        home            NaN         NaN   \n",
       "2            NaN             NaN        home            NaN         0.0   \n",
       "3              I             NaN        home            NaN         NaN   \n",
       "4              I             NaN        died          other         NaN   \n",
       "\n",
       "                                             Comment  \n",
       "0  mélyvénába belógó, mutatóujj nagyságú thrombus...  \n",
       "1                                 PD, chr WM laesiok  \n",
       "2  PFO, paradox embolizáció, Leiden és protrombin...  \n",
       "3                             bal ACI plakk/thrombus  \n",
       "4                                  agyi hypoperfusio  \n",
       "\n",
       "[5 rows x 89 columns]"
      ]
     },
     "execution_count": 10,
     "metadata": {},
     "output_type": "execute_result"
    }
   ],
   "source": [
    "df = pd.read_excel(\"Stroke_CTA_v1.xlsx\")\n",
    "df.head()"
   ]
  },
  {
   "cell_type": "code",
   "execution_count": 6,
   "metadata": {},
   "outputs": [
    {
     "data": {
      "text/plain": [
       "count     86\n",
       "unique     3\n",
       "top       no\n",
       "freq      68\n",
       "Name: AF(known/new), dtype: object"
      ]
     },
     "execution_count": 6,
     "metadata": {},
     "output_type": "execute_result"
    }
   ],
   "source": [
    "df[\"AF(known/new)\"].describe()"
   ]
  },
  {
   "cell_type": "code",
   "execution_count": 7,
   "metadata": {},
   "outputs": [
    {
     "data": {
      "text/plain": [
       "count    86.000000\n",
       "mean     71.383721\n",
       "std      11.984469\n",
       "min      40.000000\n",
       "25%      65.000000\n",
       "50%      72.500000\n",
       "75%      79.750000\n",
       "max      92.000000\n",
       "Name: Age(yrs), dtype: float64"
      ]
     },
     "execution_count": 7,
     "metadata": {},
     "output_type": "execute_result"
    }
   ],
   "source": [
    "df[\"Age(yrs)\"].describe()"
   ]
  },
  {
   "cell_type": "code",
   "execution_count": 8,
   "metadata": {},
   "outputs": [
    {
     "data": {
      "text/plain": [
       "count         86\n",
       "unique         2\n",
       "top       female\n",
       "freq          51\n",
       "Name: Sex, dtype: object"
      ]
     },
     "execution_count": 8,
     "metadata": {},
     "output_type": "execute_result"
    }
   ],
   "source": [
    "df[\"Sex\"].describe()"
   ]
  },
  {
   "cell_type": "code",
   "execution_count": 13,
   "metadata": {},
   "outputs": [
    {
     "data": {
      "text/plain": [
       "no                     54\n",
       "ambiguous              23\n",
       "yes?                    3\n",
       "no?                     2\n",
       "yes                     1\n",
       "22 jan. mellkas CTA     1\n",
       "Name: LAA thrombus, dtype: int64"
      ]
     },
     "execution_count": 13,
     "metadata": {},
     "output_type": "execute_result"
    }
   ],
   "source": [
    "df[\"LAA thrombus\"].value_counts()"
   ]
  }
 ],
 "metadata": {
  "kernelspec": {
   "display_name": "Python 3.10.5 64-bit",
   "language": "python",
   "name": "python3"
  },
  "language_info": {
   "codemirror_mode": {
    "name": "ipython",
    "version": 3
   },
   "file_extension": ".py",
   "mimetype": "text/x-python",
   "name": "python",
   "nbconvert_exporter": "python",
   "pygments_lexer": "ipython3",
   "version": "3.10.5"
  },
  "orig_nbformat": 4,
  "vscode": {
   "interpreter": {
    "hash": "afb734500600fd355917ca529030176ea0ca205570884b88f2f6f7d791fd3fbe"
   }
  }
 },
 "nbformat": 4,
 "nbformat_minor": 2
}
