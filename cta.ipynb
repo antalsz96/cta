{
 "cells": [
  {
   "cell_type": "code",
   "execution_count": 2,
   "metadata": {},
   "outputs": [],
   "source": [
    "import fitz, csv, re, os\n",
    "import pandas as pd\n",
    "import numpy as np"
   ]
  },
  {
   "cell_type": "code",
   "execution_count": 4,
   "metadata": {},
   "outputs": [],
   "source": [
    "# df1=pd.read_fwf(\"doc_1.txt\")\n",
    "# df2=pd.read_fwf(\"doc_2.txt\")\n",
    "df3=pd.read_fwf(\"C:\\\\Users\\\\User\\\\Desktop\\\\cta\\\\patients\\\\notion\\\\32fc9e32-5420-4ba6-be1c-9f95c9c6620c.txt\")"
   ]
  },
  {
   "cell_type": "code",
   "execution_count": 42,
   "metadata": {},
   "outputs": [
    {
     "data": {
      "text/html": [
       "<div>\n",
       "<style scoped>\n",
       "    .dataframe tbody tr th:only-of-type {\n",
       "        vertical-align: middle;\n",
       "    }\n",
       "\n",
       "    .dataframe tbody tr th {\n",
       "        vertical-align: top;\n",
       "    }\n",
       "\n",
       "    .dataframe thead th {\n",
       "        text-align: right;\n",
       "    }\n",
       "</style>\n",
       "<table border=\"1\" class=\"dataframe\">\n",
       "  <thead>\n",
       "    <tr style=\"text-align: right;\">\n",
       "      <th></th>\n",
       "      <th>Szegedi Tudományegyetem</th>\n",
       "      <th>Unnamed: 1</th>\n",
       "    </tr>\n",
       "  </thead>\n",
       "  <tbody>\n",
       "    <tr>\n",
       "      <th>0</th>\n",
       "      <td>Szent-Györgyi Albert Klinikai Központ</td>\n",
       "      <td>NaN</td>\n",
       "    </tr>\n",
       "    <tr>\n",
       "      <th>1</th>\n",
       "      <td>064410999   Neurológiai Klinika</td>\n",
       "      <td>NaN</td>\n",
       "    </tr>\n",
       "    <tr>\n",
       "      <th>2</th>\n",
       "      <td>6725 Szeged Semmelweis u. 6.</td>\n",
       "      <td>NaN</td>\n",
       "    </tr>\n",
       "    <tr>\n",
       "      <th>3</th>\n",
       "      <td>Igazgató:  Dr. Klivényi Péter</td>\n",
       "      <td>NaN</td>\n",
       "    </tr>\n",
       "    <tr>\n",
       "      <th>4</th>\n",
       "      <td>Tel.: 62/343-400                  FAX: 62/545-597</td>\n",
       "      <td>NaN</td>\n",
       "    </tr>\n",
       "    <tr>\n",
       "      <th>...</th>\n",
       "      <td>...</td>\n",
       "      <td>...</td>\n",
       "    </tr>\n",
       "    <tr>\n",
       "      <th>557</th>\n",
       "      <td>A zárójelentést õrizze meg, ha ismét kórházba ...</td>\n",
       "      <td>NaN</td>\n",
       "    </tr>\n",
       "    <tr>\n",
       "      <th>558</th>\n",
       "      <td>Kérem, leletével jelentkezzen családi vagy kez...</td>\n",
       "      <td>NaN</td>\n",
       "    </tr>\n",
       "    <tr>\n",
       "      <th>559</th>\n",
       "      <td>A zárójelentés 2 példányát átvettem.</td>\n",
       "      <td>NaN</td>\n",
       "    </tr>\n",
       "    <tr>\n",
       "      <th>560</th>\n",
       "      <td>e-MedSolution                                 ...</td>\n",
       "      <td>10</td>\n",
       "    </tr>\n",
       "    <tr>\n",
       "      <th>561</th>\n",
       "      <td>Róvó Józsefné - Esetszám: 55231099            ...</td>\n",
       "      <td>08:20</td>\n",
       "    </tr>\n",
       "  </tbody>\n",
       "</table>\n",
       "<p>562 rows × 2 columns</p>\n",
       "</div>"
      ],
      "text/plain": [
       "                               Szegedi Tudományegyetem Unnamed: 1\n",
       "0                Szent-Györgyi Albert Klinikai Központ        NaN\n",
       "1                      064410999   Neurológiai Klinika        NaN\n",
       "2                         6725 Szeged Semmelweis u. 6.        NaN\n",
       "3                        Igazgató:  Dr. Klivényi Péter        NaN\n",
       "4    Tel.: 62/343-400                  FAX: 62/545-597        NaN\n",
       "..                                                 ...        ...\n",
       "557  A zárójelentést õrizze meg, ha ismét kórházba ...        NaN\n",
       "558  Kérem, leletével jelentkezzen családi vagy kez...        NaN\n",
       "559               A zárójelentés 2 példányát átvettem.        NaN\n",
       "560  e-MedSolution                                 ...         10\n",
       "561  Róvó Józsefné - Esetszám: 55231099            ...      08:20\n",
       "\n",
       "[562 rows x 2 columns]"
      ]
     },
     "execution_count": 42,
     "metadata": {},
     "output_type": "execute_result"
    }
   ],
   "source": [
    "df3"
   ]
  },
  {
   "cell_type": "code",
   "execution_count": 28,
   "metadata": {},
   "outputs": [
    {
     "data": {
      "text/plain": [
       "(array([], dtype=int64),)"
      ]
     },
     "execution_count": 28,
     "metadata": {},
     "output_type": "execute_result"
    }
   ],
   "source": [
    "np.where(df[\"Szegedi Tudományegyetem\"] == True)"
   ]
  },
  {
   "cell_type": "code",
   "execution_count": 4,
   "metadata": {},
   "outputs": [
    {
     "data": {
      "text/plain": [
       "0"
      ]
     },
     "execution_count": 4,
     "metadata": {},
     "output_type": "execute_result"
    }
   ],
   "source": [
    "os.system(\"python -m fitz gettext doc_3.pdf\")"
   ]
  },
  {
   "cell_type": "code",
   "execution_count": 246,
   "metadata": {},
   "outputs": [],
   "source": [
    "def get_ident(file):\n",
    "    a={}\n",
    "    with open(file, encoding=\"utf8\") as f:\n",
    "        text=f.read()\n",
    "        taj_pattern=r'\\d{3}-\\d{3}-\\d{3}'\n",
    "        dob_pattern=r'Szül.dátum:\\s+\\d{4}.\\d{2}.\\d{2}'\n",
    "        adm_date_pattern=r'Felvételi dátum.:\\s+\\d{4}.\\d{2}.\\d{2}'\n",
    "        sex_pattern=r'Születési név...:\\s\\S+'\n",
    "        bno_pattern=r'[A-Z]\\d{2,}[A-Z]?\\d*'\n",
    "        beav_pattern=r' \\d{5} '\n",
    "        nihss_pattern=r'NI?HSS: \\d+'\n",
    "        mrs_pattern=r'mRS: \\d+'\n",
    "        \n",
    "\n",
    "        taj=re.findall(taj_pattern, text)\n",
    "        taj=taj[0].replace(\"-\",\"\")\n",
    "        \n",
    "        dob=re.findall(dob_pattern, text)[0]\n",
    "        dob=dob.split()[1]\n",
    "\n",
    "        adm_date=re.findall(adm_date_pattern, text)[0]\n",
    "        adm_date=adm_date.split()[2]\n",
    "\n",
    "        bno_list=re.findall(bno_pattern, text)\n",
    "\n",
    "        beav_list=re.findall(beav_pattern, text)\n",
    "        for i in range(len(beav_list)):\n",
    "            new_item=beav_list[i].replace(\" \",\"\")\n",
    "            beav_list[i]=new_item\n",
    "                    \n",
    "        nihss=re.findall(nihss_pattern, text)[0]\n",
    "        nihss=nihss.split()[1]\n",
    "\n",
    "        try:\n",
    "            mrs=re.findall(mrs_pattern, text)[0]\n",
    "            mrs=mrs.split()[1]\n",
    "        except IndexError:\n",
    "            mrs=None\n",
    "\n",
    "        a[\"Patient_ID\"]=taj\n",
    "        a[\"DOB\"]=dob\n",
    "        a[\"Admission_date\"]=adm_date\n",
    "        try:\n",
    "            sex=re.findall(sex_pattern, text)[0]\n",
    "            a[\"Sex\"]=\"female\"\n",
    "        except IndexError:\n",
    "            a[\"Sex\"]=\"male\"\n",
    "\n",
    "        if \"I48H0\" not in bno_list:\n",
    "            a[\"AF\"]=\"no\"\n",
    "        else:\n",
    "            a[\"AF\"]=\"known/recent\"\n",
    "\n",
    "        if \"06042\" in beav_list:\n",
    "            a[\"Alteplase\"]=\"yes\"\n",
    "\n",
    "        a[\"NIHSS\"]=nihss\n",
    "        a[\"mRS\"]=mrs\n",
    "\n",
    "    return a\n"
   ]
  },
  {
   "cell_type": "code",
   "execution_count": 247,
   "metadata": {},
   "outputs": [
    {
     "data": {
      "text/plain": [
       "{'Patient_ID': '101441151',\n",
       " 'DOB': '1933.06.15',\n",
       " 'Admission_date': '2022.03.29',\n",
       " 'Sex': 'female',\n",
       " 'AF': 'no',\n",
       " 'Alteplase': 'yes',\n",
       " 'NIHSS': '16',\n",
       " 'mRS': None}"
      ]
     },
     "execution_count": 247,
     "metadata": {},
     "output_type": "execute_result"
    }
   ],
   "source": [
    "d=get_ident(\"doc_3.txt\")\n",
    "d"
   ]
  },
  {
   "cell_type": "code",
   "execution_count": 83,
   "metadata": {},
   "outputs": [],
   "source": [
    "def get_echo(file):\n",
    "    regs=[\n",
    "        r\"Echo\\w+\\s?\\(?\\d{4}\\.?\\d{2}?\\.?\\d{2}?\\.?.*\",\n",
    "        r\"Ao\\w*:?\\s+\\d*-?\\d*-?\\d*-?\",\n",
    "        r\"B\\w+\\s?\\w*:\\s+\\d+\\s*\\w+\",\n",
    "        r\"EDD:\\s+\\d+\",\n",
    "        r\"ESD:\\s+\\d+\",\n",
    "        r\"EDV:\\s+\\d+\",\n",
    "        r\"ESV:\\s+\\d+\",\n",
    "        r\"EF:\\s+\\d+\",\n",
    "        r\"IVS:\\s+\\d+\",\n",
    "        r\"PW:\\s+\\d+\",\n",
    "        r\"TAPSE:\\s+\\d+\",\n",
    "        r\"E/?A: \\d+/\\d+\"\n",
    "    ]\n",
    "    a={}\n",
    "    for reg in regs:\n",
    "        with open(file, encoding=\"utf8\") as f:\n",
    "            text=f.read()\n",
    "            match=re.findall(reg, text)[0]\n",
    "            # print(match)\n",
    "\n",
    "            dates=re.findall(r'\\d{4}\\.?\\d{2}?\\.?\\d{2}?',match)\n",
    "            if dates:\n",
    "                a[\"date\"]=dates[0]\n",
    "\n",
    "            # if \"Ao\" in match:\n",
    "            #     a[\"Aorta\"]=re.split(r'\\s+', match)[1]\n",
    "\n",
    "            if not \"Echo\" in match:\n",
    "                par=match.split(\":\")[0]\n",
    "                val=match.split(\" \")[-1]\n",
    "                a[par]=val\n",
    "\n",
    "    return a"
   ]
  },
  {
   "cell_type": "code",
   "execution_count": 84,
   "metadata": {},
   "outputs": [
    {
     "data": {
      "text/plain": [
       "{'date': '2021.09.06',\n",
       " 'Aorta': '21-30-25',\n",
       " 'Bal pitvar': '42x44x50',\n",
       " 'EDD': '43',\n",
       " 'ESD': '28',\n",
       " 'EDV': '83',\n",
       " 'ESV': '29',\n",
       " 'EF': '65',\n",
       " 'IVS': '10',\n",
       " 'PW': '10',\n",
       " 'TAPSE': '20',\n",
       " 'E/A': '50/71'}"
      ]
     },
     "execution_count": 84,
     "metadata": {},
     "output_type": "execute_result"
    }
   ],
   "source": [
    "get_echo(\"patients\\\\notion\\\\67efc844-644f-40cf-af5e-632dadb29d78.txt\")"
   ]
  },
  {
   "cell_type": "code",
   "execution_count": 28,
   "metadata": {},
   "outputs": [
    {
     "name": "stdout",
     "output_type": "stream",
     "text": [
      "['101-441-151']\n"
     ]
    }
   ],
   "source": [
    "# with open(\"doc_3.txt\", encoding=\"utf8\") as f:\n",
    "#         text=f.read()\n",
    "#         taj_pattern=r'\\d{3}-\\d{3}-\\d{3}'\n",
    "#         taj=re.findall(taj_pattern, text)\n",
    "#         # taj=taj.replace(\"-\",\"\")\n",
    "#         print(taj)"
   ]
  },
  {
   "cell_type": "code",
   "execution_count": 285,
   "metadata": {},
   "outputs": [],
   "source": [
    "# def get_lab_param(file, lab_param):\n",
    "#     a=[]\n",
    "#     for i in range(file.shape[0]):\n",
    "#         if lab_param in file.loc[i][0] and \"dializált\" not in file.loc[i][0]:\n",
    "#             pattern=r'\\s{2,}'\n",
    "#             p=file.loc[i][0].replace(\",\",\".\")\n",
    "#             p=re.split(pattern,p)\n",
    "#             par=p[0]\n",
    "#             val=p[1]\n",
    "#             # return {i:p}\n",
    "#             a.append([i,{par:val}])\n",
    "#     return a"
   ]
  },
  {
   "cell_type": "code",
   "execution_count": 109,
   "metadata": {},
   "outputs": [],
   "source": [
    "# this is much more straightforward\n",
    "\n",
    "def get_lab_param(file, lab_param):\n",
    "    a={}\n",
    "    for i in range(file.shape[0]):\n",
    "        text=file.loc[i][0]\n",
    "        if lab_param in text:\n",
    "            pattern=r'\\s{2,}'\n",
    "            p=text#.replace(\",\",\".\")\n",
    "            p=re.split(pattern,p)\n",
    "            par=p[0]\n",
    "            try:\n",
    "                val=p[1]\n",
    "            except IndexError: pass\n",
    "            # return {i:p}\n",
    "            # a[\"no\"]=i\n",
    "            # if \"Tromboplasztin\" in par:\n",
    "            #     val=p[0].split(\" \")[3]\n",
    "            a[par]=val\n",
    "            \n",
    "    return a\n",
    "\n",
    "# def get_lab_param(file, lab_param):\n",
    "#     a={}\n",
    "#     with open(file, encoding=\"utf8\") as f:\n",
    "#         text=f.read()\n",
    "#         if lab_param in text:\n",
    "#             pattern=r'\\s{2,}'\n",
    "#             p=text#.replace(\",\",\".\")\n",
    "#             p=re.split(pattern,p)\n",
    "#             par=p[0]\n",
    "#             val=p[1]\n",
    "#             # return {i:p}\n",
    "#             # a[\"no\"]=i\n",
    "#             a[par]=val\n",
    "            \n",
    "#     return a"
   ]
  },
  {
   "cell_type": "code",
   "execution_count": 12,
   "metadata": {},
   "outputs": [
    {
     "data": {
      "text/plain": [
       "{'Akt.Parciális Tromboplasztin Idõ 32,3': '32,3'}"
      ]
     },
     "execution_count": 12,
     "metadata": {},
     "output_type": "execute_result"
    }
   ],
   "source": [
    "a={}\n",
    "for i in range(df3.shape[0]):\n",
    "    text=df3.loc[i][0]\n",
    "    # try:\n",
    "    if \"Tromboplasztin\" in text:\n",
    "        pattern=r'\\s{2,}'\n",
    "        p=text#.replace(\",\",\".\")\n",
    "        p=re.split(pattern,p)\n",
    "        # print(p[1])\n",
    "        par=p[0]\n",
    "        val=p[1]\n",
    "        # return {i:p}\n",
    "        # a[\"no\"]=i\n",
    "        if \"Tromboplasztin\" in par:\n",
    "            try:\n",
    "                # val=p[0].split(\" \")[3]\n",
    "                vals=re.findall(r'\\d*[,.]?\\d*', par)\n",
    "                for i in vals:\n",
    "                    if i != \"\":\n",
    "                        val=i\n",
    "            except IndexError: pass\n",
    "        a[par]=val\n",
    "    # except IndexError:\n",
    "    #     continue\n",
    "a"
   ]
  },
  {
   "cell_type": "code",
   "execution_count": 232,
   "metadata": {},
   "outputs": [
    {
     "data": {
      "text/plain": [
       "{'Glükóz': '10,9',\n",
       " 'Szenzitív C-reaktív protein': '60,5',\n",
       " 'Troponin T (high sensitive)': '1036',\n",
       " 'proBNP': '5135,0',\n",
       " 'Karbamid (Urea)': '16,7',\n",
       " 'Kreatinin': '177',\n",
       " 'eGFR-EPI': '22',\n",
       " 'Fehérvérsejt szám': '11,85',\n",
       " 'Protrombin INR': '.',\n",
       " 'Akt.Parciális Tromboplasztin Idõ': 's',\n",
       " 'Haemoglobin A1C': '45',\n",
       " 'Triglicerid': '1,10',\n",
       " 'LDL-koleszterin': '3,70'}"
      ]
     },
     "execution_count": 232,
     "metadata": {},
     "output_type": "execute_result"
    }
   ],
   "source": [
    "params=[\n",
    "    \"Glükóz\",\n",
    "    \"Szenzitív C-reaktív protein\",\n",
    "    \"Troponin T (high sensitive)\",\n",
    "    \"proBNP  \",\n",
    "    \"Karbamid (Urea)\",\n",
    "    \"Kreatinin\",\n",
    "    \"eGFR-EPI  \",\n",
    "    \"Fehérvérsejt szám\",\n",
    "    \"Protrombin INR\",\n",
    "    \"Akt.Parciális Tromboplasztin Idõ\",\n",
    "    \"Kvantitatív D-dimer\",\n",
    "    \"Haemoglobin A1C\",\n",
    "    \"Triglicerid\",\n",
    "    \"LDL-koleszterin\"\n",
    "]\n",
    "\n",
    "result={}\n",
    "# result.update(get_ident(\"doc_2.txt\"))\n",
    "for param in params:\n",
    "    \n",
    "    result.update(get_lab_param(df3, param))\n",
    "\n",
    "# result[1][0][1]\n",
    "result"
   ]
  },
  {
   "cell_type": "code",
   "execution_count": 235,
   "metadata": {},
   "outputs": [
    {
     "data": {
      "text/plain": [
       "0    5135,0\n",
       "Name: proBNP, dtype: object"
      ]
     },
     "execution_count": 235,
     "metadata": {},
     "output_type": "execute_result"
    }
   ],
   "source": [
    "labs=pd.DataFrame(result, index=[0])\n",
    "labs[\"proBNP\"]#.to_excel(\"labs.xlsx\")"
   ]
  },
  {
   "cell_type": "markdown",
   "metadata": {},
   "source": [
    "------------------------------------------------------------------------------------------------------------------------------------------\n",
    "------------------------------------------------------------------------------------------------------------------------------------------\n",
    "------------------------------------------------------------------------------------------------------------------------------------------\n",
    "------------------------------------------------------------------------------------------------------------------------------------------"
   ]
  },
  {
   "cell_type": "code",
   "execution_count": 226,
   "metadata": {},
   "outputs": [
    {
     "data": {
      "text/html": [
       "<div>\n",
       "<style scoped>\n",
       "    .dataframe tbody tr th:only-of-type {\n",
       "        vertical-align: middle;\n",
       "    }\n",
       "\n",
       "    .dataframe tbody tr th {\n",
       "        vertical-align: top;\n",
       "    }\n",
       "\n",
       "    .dataframe thead th {\n",
       "        text-align: right;\n",
       "    }\n",
       "</style>\n",
       "<table border=\"1\" class=\"dataframe\">\n",
       "  <thead>\n",
       "    <tr style=\"text-align: right;\">\n",
       "      <th></th>\n",
       "      <th>Glükóz</th>\n",
       "      <th>C-reaktív protein</th>\n",
       "      <th>Troponin T</th>\n",
       "      <th>proBNP</th>\n",
       "      <th>Urea</th>\n",
       "      <th>Kreatinin</th>\n",
       "      <th>eGFR</th>\n",
       "      <th>Fehérvérsejt</th>\n",
       "      <th>INR</th>\n",
       "      <th>Akt.Parciális Tromboplasztin Idõ</th>\n",
       "      <th>D-dimer</th>\n",
       "      <th>Haemoglobin A1C</th>\n",
       "      <th>Triglicerid</th>\n",
       "      <th>LDL-koleszterin</th>\n",
       "    </tr>\n",
       "  </thead>\n",
       "  <tbody>\n",
       "  </tbody>\n",
       "</table>\n",
       "</div>"
      ],
      "text/plain": [
       "Empty DataFrame\n",
       "Columns: [Glükóz, C-reaktív protein, Troponin T, proBNP, Urea, Kreatinin, eGFR, Fehérvérsejt, INR, Akt.Parciális Tromboplasztin Idõ, D-dimer, Haemoglobin A1C, Triglicerid, LDL-koleszterin]\n",
       "Index: []"
      ]
     },
     "execution_count": 226,
     "metadata": {},
     "output_type": "execute_result"
    }
   ],
   "source": [
    "cols=[\n",
    "    \"glu_first\",\n",
    "    \"CRP_first(mg/l)\",\n",
    "    \"TropT(ng/l)\",\n",
    "    \"proBNP(pg/ml)\",\n",
    "    \"BUN_precontrast(mmol/l)\",\n",
    "    \"Creat_precontrast(umol/l)\",\n",
    "    \"BUN_postcontrast(mmol/l)\",\n",
    "    \"Creat_postcontrast(umol/l)\",\n",
    "    \"eGFR(ml/min/tf)\",\n",
    "    \"WBC(G/l)\",\n",
    "    \"INR\",\n",
    "    \"APTI(s)\",\n",
    "    \"D-dimer(ug/ml)\",\n",
    "    \"HgbA1c(mmol/mol)\",\n",
    "    \"HgbA1c(%)\",\n",
    "    \"Triglicerid(mmol/l)\",\n",
    "    \"LDL-chol(mmol/l)\"\n",
    "]\n",
    "\n",
    "labs=pd.DataFrame(columns=params)\n",
    "labs"
   ]
  },
  {
   "cell_type": "code",
   "execution_count": 341,
   "metadata": {},
   "outputs": [
    {
     "data": {
      "text/plain": [
       "[{'Glükóz': '11.5'},\n",
       " {'Szenzitív C-reaktív protein': '15.7'},\n",
       " {'Troponin T (high sensitive)': '20'},\n",
       " {'proBNP': '4668.0'},\n",
       " {'Karbamid (Urea)': '11.5'},\n",
       " {'Kreatinin': '147'},\n",
       " {'eGFR-EPI': '29'},\n",
       " {'Fehérvérsejt szám': '10.86'},\n",
       " {'Protrombin INR': '1.19'},\n",
       " {'Akt.Parciális Tromboplasztin Idõ 39.4': 's'},\n",
       " {'Kvantitatív D-dimer': '2.25'},\n",
       " {'Haemoglobin A1C': '7.5'},\n",
       " {'Triglicerid': '1.08'},\n",
       " {'LDL-koleszterin': '2.79'}]"
      ]
     },
     "execution_count": 341,
     "metadata": {},
     "output_type": "execute_result"
    }
   ],
   "source": [
    "l=[]\n",
    "for i in range(len(params)):\n",
    "    if result[i]:\n",
    "        dict=result[i][0][1]\n",
    "        l.append(dict)\n",
    "l"
   ]
  },
  {
   "cell_type": "code",
   "execution_count": 336,
   "metadata": {},
   "outputs": [
    {
     "data": {
      "text/html": [
       "<div>\n",
       "<style scoped>\n",
       "    .dataframe tbody tr th:only-of-type {\n",
       "        vertical-align: middle;\n",
       "    }\n",
       "\n",
       "    .dataframe tbody tr th {\n",
       "        vertical-align: top;\n",
       "    }\n",
       "\n",
       "    .dataframe thead th {\n",
       "        text-align: right;\n",
       "    }\n",
       "</style>\n",
       "<table border=\"1\" class=\"dataframe\">\n",
       "  <thead>\n",
       "    <tr style=\"text-align: right;\">\n",
       "      <th></th>\n",
       "      <th>Glükóz</th>\n",
       "      <th>C-reaktív protein</th>\n",
       "      <th>Troponin T</th>\n",
       "      <th>proBNP</th>\n",
       "      <th>Urea</th>\n",
       "      <th>Kreatinin</th>\n",
       "      <th>eGFR</th>\n",
       "      <th>Fehérvérsejt</th>\n",
       "      <th>INR</th>\n",
       "      <th>Akt.Parciális Tromboplasztin Idõ</th>\n",
       "      <th>D-dimer</th>\n",
       "      <th>Haemoglobin A1C</th>\n",
       "      <th>Triglicerid</th>\n",
       "      <th>LDL-koleszterin</th>\n",
       "    </tr>\n",
       "  </thead>\n",
       "  <tbody>\n",
       "    <tr>\n",
       "      <th>0</th>\n",
       "      <td>NaN</td>\n",
       "      <td>NaN</td>\n",
       "      <td>NaN</td>\n",
       "      <td>NaN</td>\n",
       "      <td>NaN</td>\n",
       "      <td>NaN</td>\n",
       "      <td>NaN</td>\n",
       "      <td>NaN</td>\n",
       "      <td>NaN</td>\n",
       "      <td>NaN</td>\n",
       "      <td>NaN</td>\n",
       "      <td>NaN</td>\n",
       "      <td>NaN</td>\n",
       "      <td>2.79</td>\n",
       "    </tr>\n",
       "  </tbody>\n",
       "</table>\n",
       "</div>"
      ],
      "text/plain": [
       "  Glükóz C-reaktív protein Troponin T proBNP Urea Kreatinin eGFR Fehérvérsejt  \\\n",
       "0    NaN               NaN        NaN    NaN  NaN       NaN  NaN          NaN   \n",
       "\n",
       "   INR Akt.Parciális Tromboplasztin Idõ D-dimer Haemoglobin A1C Triglicerid  \\\n",
       "0  NaN                              NaN     NaN             NaN         NaN   \n",
       "\n",
       "  LDL-koleszterin  \n",
       "0            2.79  "
      ]
     },
     "execution_count": 336,
     "metadata": {},
     "output_type": "execute_result"
    }
   ],
   "source": [
    "labs.loc[0]="
   ]
  },
  {
   "cell_type": "code",
   "execution_count": 346,
   "metadata": {},
   "outputs": [
    {
     "name": "stdout",
     "output_type": "stream",
     "text": [
      "Glükóz 11.5\n",
      "Szenzitív C-reaktív protein 15.7\n",
      "Troponin T (high sensitive) 20\n",
      "proBNP 4668.0\n",
      "Karbamid (Urea) 11.5\n",
      "Kreatinin 147\n",
      "eGFR-EPI 29\n",
      "Fehérvérsejt szám 10.86\n",
      "Protrombin INR 1.19\n"
     ]
    }
   ],
   "source": [
    "# l[0][\"Glükóz\"]\n",
    "d={}\n",
    "try:\n",
    "    for i in range(len(params)):\n",
    "        for param in params:\n",
    "            value=l[i][param]\n",
    "            print(param,value)\n",
    "            d[param]=value\n",
    "            i+=1\n",
    "except KeyError:\n",
    "    i+=1"
   ]
  },
  {
   "cell_type": "code",
   "execution_count": 349,
   "metadata": {},
   "outputs": [
    {
     "data": {
      "text/html": [
       "<div>\n",
       "<style scoped>\n",
       "    .dataframe tbody tr th:only-of-type {\n",
       "        vertical-align: middle;\n",
       "    }\n",
       "\n",
       "    .dataframe tbody tr th {\n",
       "        vertical-align: top;\n",
       "    }\n",
       "\n",
       "    .dataframe thead th {\n",
       "        text-align: right;\n",
       "    }\n",
       "</style>\n",
       "<table border=\"1\" class=\"dataframe\">\n",
       "  <thead>\n",
       "    <tr style=\"text-align: right;\">\n",
       "      <th></th>\n",
       "      <th>Glükóz</th>\n",
       "      <th>Szenzitív C-reaktív protein</th>\n",
       "      <th>Troponin T (high sensitive)</th>\n",
       "      <th>proBNP</th>\n",
       "      <th>Karbamid (Urea)</th>\n",
       "      <th>Kreatinin</th>\n",
       "      <th>eGFR-EPI</th>\n",
       "      <th>Fehérvérsejt szám</th>\n",
       "      <th>Protrombin INR</th>\n",
       "    </tr>\n",
       "  </thead>\n",
       "  <tbody>\n",
       "    <tr>\n",
       "      <th>0</th>\n",
       "      <td>11.5</td>\n",
       "      <td>15.7</td>\n",
       "      <td>20</td>\n",
       "      <td>4668.0</td>\n",
       "      <td>11.5</td>\n",
       "      <td>147</td>\n",
       "      <td>29</td>\n",
       "      <td>10.86</td>\n",
       "      <td>1.19</td>\n",
       "    </tr>\n",
       "  </tbody>\n",
       "</table>\n",
       "</div>"
      ],
      "text/plain": [
       "  Glükóz Szenzitív C-reaktív protein Troponin T (high sensitive)  proBNP  \\\n",
       "0   11.5                        15.7                          20  4668.0   \n",
       "\n",
       "  Karbamid (Urea) Kreatinin eGFR-EPI Fehérvérsejt szám Protrombin INR  \n",
       "0            11.5       147       29             10.86           1.19  "
      ]
     },
     "execution_count": 349,
     "metadata": {},
     "output_type": "execute_result"
    }
   ],
   "source": [
    "pd.DataFrame(d, index=[0])"
   ]
  },
  {
   "cell_type": "code",
   "execution_count": 83,
   "metadata": {},
   "outputs": [
    {
     "name": "stdout",
     "output_type": "stream",
     "text": [
      "{'format': 'PDF 1.3', 'title': '', 'author': '', 'subject': '', 'keywords': '', 'creator': '', 'producer': 'ISH Medsolution report generator.', 'creationDate': '', 'modDate': '', 'trapped': '', 'encryption': None}\n"
     ]
    }
   ],
   "source": [
    "with fitz.open(\"doc_3.pdf\") as doc:\n",
    "    print(doc.metadata)\n",
    "    # for key in doc.xref_get_keys(xref=1):\n",
    "    #     print(key, \"=\" , doc.xref_get_key(xref=1, key=key))\n",
    "    # xref=doc.xref_stream_raw(xref=1)\n",
    "    \n",
    "\n",
    "# print(xref)"
   ]
  },
  {
   "cell_type": "code",
   "execution_count": 178,
   "metadata": {},
   "outputs": [
    {
     "name": "stdout",
     "output_type": "stream",
     "text": [
      "doc_1\n",
      "doc_2\n",
      "doc_3\n"
     ]
    }
   ],
   "source": [
    "import glob\n",
    "path = os.getcwd()\n",
    "for txt in glob.glob(f\"{path}/*.txt\"):\n",
    "    print(txt.split(\"\\\\\")[-1].split(\".\")[0])"
   ]
  },
  {
   "cell_type": "code",
   "execution_count": null,
   "metadata": {},
   "outputs": [],
   "source": [
    "import requests\n",
    "\n",
    "x = requests.get('http://http://ish.szote.u-szeged.hu/ems2', timeout=3)\n",
    "print(x.status_code)"
   ]
  },
  {
   "cell_type": "code",
   "execution_count": 193,
   "metadata": {},
   "outputs": [
    {
     "name": "stdout",
     "output_type": "stream",
     "text": [
      "['I6390', 'I6600', 'I6720', 'I48H0', 'I2520', 'E1080', 'I10H0', 'E7800', 'Z2980']\n"
     ]
    }
   ],
   "source": [
    "with open(\"doc_2.txt\", encoding=\"utf8\") as f:\n",
    "    text=f.read()\n",
    "    bno_pattern=r'[A-Z]\\d{2,}[A-Z]?\\d*'\n",
    "    print(re.findall(bno_pattern, text))"
   ]
  }
 ],
 "metadata": {
  "kernelspec": {
   "display_name": "Python 3.10.5 64-bit",
   "language": "python",
   "name": "python3"
  },
  "language_info": {
   "codemirror_mode": {
    "name": "ipython",
    "version": 3
   },
   "file_extension": ".py",
   "mimetype": "text/x-python",
   "name": "python",
   "nbconvert_exporter": "python",
   "pygments_lexer": "ipython3",
   "version": "3.10.5"
  },
  "orig_nbformat": 4,
  "vscode": {
   "interpreter": {
    "hash": "afb734500600fd355917ca529030176ea0ca205570884b88f2f6f7d791fd3fbe"
   }
  }
 },
 "nbformat": 4,
 "nbformat_minor": 2
}
