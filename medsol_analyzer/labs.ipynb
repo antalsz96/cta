{
 "cells": [
  {
   "cell_type": "code",
   "execution_count": null,
   "metadata": {},
   "outputs": [],
   "source": [
    "print(\"hello\")"
   ]
  }
 ],
 "metadata": {
  "kernelspec": {
   "display_name": "Python 3.9.7 ('base')",
   "language": "python",
   "name": "python3"
  },
  "language_info": {
   "name": "python",
   "version": "3.9.7"
  },
  "orig_nbformat": 4,
  "vscode": {
   "interpreter": {
    "hash": "c00d23e2ea6cb5f075c99cb9345e5e838210bbdac0ea863e00707a54769d3bf2"
   }
  }
 },
 "nbformat": 4,
 "nbformat_minor": 2
}
