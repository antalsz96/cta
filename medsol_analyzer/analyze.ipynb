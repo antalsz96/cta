{
 "cells": [
  {
   "cell_type": "code",
   "execution_count": 1,
   "metadata": {},
   "outputs": [],
   "source": [
    "import pandas as pd\n",
    "import os\n",
    "import numpy as np"
   ]
  },
  {
   "cell_type": "code",
   "execution_count": 2,
   "metadata": {},
   "outputs": [
    {
     "data": {
      "text/html": [
       "<div>\n",
       "<style scoped>\n",
       "    .dataframe tbody tr th:only-of-type {\n",
       "        vertical-align: middle;\n",
       "    }\n",
       "\n",
       "    .dataframe tbody tr th {\n",
       "        vertical-align: top;\n",
       "    }\n",
       "\n",
       "    .dataframe thead th {\n",
       "        text-align: right;\n",
       "    }\n",
       "</style>\n",
       "<table border=\"1\" class=\"dataframe\">\n",
       "  <thead>\n",
       "    <tr style=\"text-align: right;\">\n",
       "      <th></th>\n",
       "      <th>shifted_refrence_date</th>\n",
       "      <th>patient_id</th>\n",
       "      <th>observation_main_id</th>\n",
       "      <th>form_code</th>\n",
       "      <th>form_description</th>\n",
       "      <th>observation_date</th>\n",
       "      <th>observation_code</th>\n",
       "      <th>observation_description</th>\n",
       "      <th>observation_value</th>\n",
       "      <th>observation_labvalue_numeric</th>\n",
       "      <th>observation_unit</th>\n",
       "      <th>observation_result_update</th>\n",
       "    </tr>\n",
       "  </thead>\n",
       "  <tbody>\n",
       "    <tr>\n",
       "      <th>0</th>\n",
       "      <td>2021-11-12</td>\n",
       "      <td>455768</td>\n",
       "      <td>4832035</td>\n",
       "      <td>KKISURG</td>\n",
       "      <td>Sürg?s laborvizsgálatok</td>\n",
       "      <td>2021-11-12</td>\n",
       "      <td>KKKREA</td>\n",
       "      <td>Kreatinin</td>\n",
       "      <td>{166}</td>\n",
       "      <td>166.0</td>\n",
       "      <td>umol/L</td>\n",
       "      <td>2021-11-12</td>\n",
       "    </tr>\n",
       "    <tr>\n",
       "      <th>1</th>\n",
       "      <td>2021-11-12</td>\n",
       "      <td>455768</td>\n",
       "      <td>4832035</td>\n",
       "      <td>KKISURG</td>\n",
       "      <td>Sürg?s laborvizsgálatok</td>\n",
       "      <td>2021-11-12</td>\n",
       "      <td>KKKN</td>\n",
       "      <td>Karbamid (Urea)</td>\n",
       "      <td>{8.5}</td>\n",
       "      <td>8.5</td>\n",
       "      <td>mmol/L</td>\n",
       "      <td>2021-11-12</td>\n",
       "    </tr>\n",
       "    <tr>\n",
       "      <th>2</th>\n",
       "      <td>2021-11-12</td>\n",
       "      <td>455768</td>\n",
       "      <td>4832035</td>\n",
       "      <td>KKISURG</td>\n",
       "      <td>Sürg?s laborvizsgálatok</td>\n",
       "      <td>2021-11-12</td>\n",
       "      <td>KKMINTA</td>\n",
       "      <td>Minta érkeztetés</td>\n",
       "      <td>{rendben;}</td>\n",
       "      <td>NaN</td>\n",
       "      <td>NaN</td>\n",
       "      <td>2021-11-12</td>\n",
       "    </tr>\n",
       "    <tr>\n",
       "      <th>3</th>\n",
       "      <td>2021-11-12</td>\n",
       "      <td>455768</td>\n",
       "      <td>4832035</td>\n",
       "      <td>KKISURG</td>\n",
       "      <td>Sürg?s laborvizsgálatok</td>\n",
       "      <td>2021-11-12</td>\n",
       "      <td>KKURGEN</td>\n",
       "      <td>Urgency</td>\n",
       "      <td>{3}</td>\n",
       "      <td>NaN</td>\n",
       "      <td>NaN</td>\n",
       "      <td>2021-11-12</td>\n",
       "    </tr>\n",
       "    <tr>\n",
       "      <th>4</th>\n",
       "      <td>2021-11-12</td>\n",
       "      <td>455768</td>\n",
       "      <td>4832035</td>\n",
       "      <td>KKISURG</td>\n",
       "      <td>Sürg?s laborvizsgálatok</td>\n",
       "      <td>2021-11-12</td>\n",
       "      <td>KKELL</td>\n",
       "      <td>Ellen?rizte:</td>\n",
       "      <td>NaN</td>\n",
       "      <td>NaN</td>\n",
       "      <td>NaN</td>\n",
       "      <td>2021-11-12</td>\n",
       "    </tr>\n",
       "  </tbody>\n",
       "</table>\n",
       "</div>"
      ],
      "text/plain": [
       "  shifted_refrence_date  patient_id  observation_main_id form_code  \\\n",
       "0            2021-11-12      455768              4832035   KKISURG   \n",
       "1            2021-11-12      455768              4832035   KKISURG   \n",
       "2            2021-11-12      455768              4832035   KKISURG   \n",
       "3            2021-11-12      455768              4832035   KKISURG   \n",
       "4            2021-11-12      455768              4832035   KKISURG   \n",
       "\n",
       "          form_description observation_date observation_code  \\\n",
       "0  Sürg?s laborvizsgálatok       2021-11-12           KKKREA   \n",
       "1  Sürg?s laborvizsgálatok       2021-11-12             KKKN   \n",
       "2  Sürg?s laborvizsgálatok       2021-11-12          KKMINTA   \n",
       "3  Sürg?s laborvizsgálatok       2021-11-12          KKURGEN   \n",
       "4  Sürg?s laborvizsgálatok       2021-11-12            KKELL   \n",
       "\n",
       "  observation_description observation_value  observation_labvalue_numeric  \\\n",
       "0               Kreatinin             {166}                         166.0   \n",
       "1         Karbamid (Urea)             {8.5}                           8.5   \n",
       "2        Minta érkeztetés        {rendben;}                           NaN   \n",
       "3                 Urgency               {3}                           NaN   \n",
       "4            Ellen?rizte:               NaN                           NaN   \n",
       "\n",
       "  observation_unit observation_result_update  \n",
       "0           umol/L                2021-11-12  \n",
       "1           mmol/L                2021-11-12  \n",
       "2              NaN                2021-11-12  \n",
       "3              NaN                2021-11-12  \n",
       "4              NaN                2021-11-12  "
      ]
     },
     "execution_count": 2,
     "metadata": {},
     "output_type": "execute_result"
    }
   ],
   "source": [
    "labor = pd.read_csv(\"Radi_labor.csv\", encoding=\"iso8859_2\")\n",
    "labor.head()"
   ]
  },
  {
   "cell_type": "code",
   "execution_count": null,
   "metadata": {},
   "outputs": [],
   "source": [
    "labor.index=pd.MultiIndex.from_frame(labor)\n",
    "grouped=labor.groupby(level=[\"patient_id\", \"observation_description\"])\n",
    "grouped.aggregate(np.sum)"
   ]
  },
  {
   "cell_type": "code",
   "execution_count": null,
   "metadata": {},
   "outputs": [],
   "source": [
    "labor.groupby([\"patient_id\", \"observation_description\"]).sum()"
   ]
  },
  {
   "cell_type": "code",
   "execution_count": 6,
   "metadata": {},
   "outputs": [
    {
     "ename": "TypeError",
     "evalue": "DataFrame.update() got an unexpected keyword argument 'index'",
     "output_type": "error",
     "traceback": [
      "\u001b[0;31m---------------------------------------------------------------------------\u001b[0m",
      "\u001b[0;31mTypeError\u001b[0m                                 Traceback (most recent call last)",
      "Cell \u001b[0;32mIn [6], line 14\u001b[0m\n\u001b[1;32m     12\u001b[0m   grouped \u001b[39m=\u001b[39m labor\u001b[39m.\u001b[39mgroupby([\u001b[39m\"\u001b[39m\u001b[39mpatient_id\u001b[39m\u001b[39m\"\u001b[39m, \u001b[39m\"\u001b[39m\u001b[39mobservation_description\u001b[39m\u001b[39m\"\u001b[39m])\n\u001b[1;32m     13\u001b[0m   VAL \u001b[39m=\u001b[39m grouped\u001b[39m.\u001b[39mget_group((ID, OBS))[\u001b[39m\"\u001b[39m\u001b[39mobservation_labvalue_numeric\u001b[39m\u001b[39m\"\u001b[39m]\u001b[39m.\u001b[39mvalues[\u001b[39m0\u001b[39m]\n\u001b[0;32m---> 14\u001b[0m   dft \u001b[39m=\u001b[39m dft\u001b[39m.\u001b[39;49mupdate({OBS:VAL}, index\u001b[39m=\u001b[39;49m[ID])\n\u001b[1;32m     15\u001b[0m \u001b[39mexcept\u001b[39;00m \u001b[39mKeyError\u001b[39;00m:\n\u001b[1;32m     16\u001b[0m   \u001b[39mpass\u001b[39;00m\n",
      "\u001b[0;31mTypeError\u001b[0m: DataFrame.update() got an unexpected keyword argument 'index'"
     ]
    }
   ],
   "source": [
    "analyzer_ids = labor[\"patient_id\"].unique()\n",
    "analyzer_observation_descriptions = labor[\"observation_description\"].unique()\n",
    "# for id, observation in zip(analyzer_ids, analyzer_observation_descriptions: ?\n",
    "# vagy csak simán:\n",
    "dft = pd.DataFrame({'OBS':'VAL'}, index=['ID'])\n",
    "for analyzer_id in analyzer_ids:\n",
    "   for observation in analyzer_observation_descriptions:\n",
    "    ID = analyzer_id\n",
    "    OBS = observation\n",
    "\n",
    "    try:\n",
    "      grouped = labor.groupby([\"patient_id\", \"observation_description\"])\n",
    "      VAL = grouped.get_group((ID, OBS))[\"observation_labvalue_numeric\"].values[0]\n",
    "      dft = dft.update({OBS:VAL}, index=[ID])\n",
    "      # valahogy update-elni kell a kezdeti df-et\n",
    "      #  vagy inkább a már meglévő dataframe-et kellene leszűrni !!\n",
    "    except KeyError:\n",
    "      pass\n",
    "\n",
    "dft"
   ]
  },
  {
   "cell_type": "code",
   "execution_count": 123,
   "metadata": {},
   "outputs": [],
   "source": [
    "analyzer_ids = labor[\"patient_id\"].unique()\n",
    "analyzer_observation_descriptions = labor[\"observation_description\"].unique()"
   ]
  },
  {
   "cell_type": "code",
   "execution_count": 125,
   "metadata": {},
   "outputs": [
    {
     "name": "stdout",
     "output_type": "stream",
     "text": [
      "499\n",
      "106\n"
     ]
    }
   ],
   "source": [
    "print(len(analyzer_ids))\n",
    "print(len(analyzer_observation_descriptions))"
   ]
  }
 ],
 "metadata": {
  "kernelspec": {
   "display_name": "Python 3.10.8 64-bit",
   "language": "python",
   "name": "python3"
  },
  "language_info": {
   "codemirror_mode": {
    "name": "ipython",
    "version": 3
   },
   "file_extension": ".py",
   "mimetype": "text/x-python",
   "name": "python",
   "nbconvert_exporter": "python",
   "pygments_lexer": "ipython3",
   "version": "3.10.8"
  },
  "orig_nbformat": 4,
  "vscode": {
   "interpreter": {
    "hash": "aee8b7b246df8f9039afb4144a1f6fd8d2ca17a180786b69acc140d282b71a49"
   }
  }
 },
 "nbformat": 4,
 "nbformat_minor": 2
}
