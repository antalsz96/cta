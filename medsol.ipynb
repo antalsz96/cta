{
 "cells": [
  {
   "cell_type": "code",
   "execution_count": 3,
   "metadata": {},
   "outputs": [
    {
     "data": {
      "text/plain": [
       "'c:\\\\Users\\\\User\\\\AppData\\\\Local\\\\Programs\\\\Python\\\\Python310\\\\lib\\\\site-packages\\\\certifi\\\\cacert.pem'"
      ]
     },
     "execution_count": 3,
     "metadata": {},
     "output_type": "execute_result"
    }
   ],
   "source": [
    "import certifi\n",
    "certifi.where()"
   ]
  },
  {
   "cell_type": "code",
   "execution_count": 15,
   "metadata": {},
   "outputs": [],
   "source": [
    "import os, requests, json"
   ]
  },
  {
   "cell_type": "code",
   "execution_count": 34,
   "metadata": {},
   "outputs": [
    {
     "name": "stderr",
     "output_type": "stream",
     "text": [
      "c:\\Users\\User\\AppData\\Local\\Programs\\Python\\Python310\\lib\\site-packages\\urllib3\\connectionpool.py:1045: InsecureRequestWarning: Unverified HTTPS request is being made to host 'was3.ish.szote.u-szeged.hu'. Adding certificate verification is strongly advised. See: https://urllib3.readthedocs.io/en/1.26.x/advanced-usage.html#ssl-warnings\n",
      "  warnings.warn(\n"
     ]
    },
    {
     "data": {
      "text/plain": [
       "200"
      ]
     },
     "execution_count": 34,
     "metadata": {},
     "output_type": "execute_result"
    }
   ],
   "source": [
    "from requests.auth import HTTPBasicAuth\n",
    "url1='https://was1.ish.szote.u-szeged.hu:9443/szote/jsp/Login.jsp'\n",
    "url2='https://was3.ish.szote.u-szeged.hu:9443/szote/Startup'\n",
    "\n",
    "r=requests.get(url2, auth=HTTPBasicAuth('kizs2', 'Cerebellum11'), verify=False)\n",
    "r.status_code"
   ]
  },
  {
   "cell_type": "code",
   "execution_count": 39,
   "metadata": {},
   "outputs": [
    {
     "data": {
      "text/plain": [
       "b'\\r\\n\\r\\n\\r\\n\\r\\n\\r\\n\\r\\n\\r\\n\\r\\n<!DOCTYPE HTML PUBLIC \"-//W3C//DTD HTML 4.0 Frameset//EN\">\\r\\n<HTML>\\r\\n<HEAD>\\r\\n  <META http-equiv=\"Content-Style-Type\" content=\"text/css\">\\r\\n  <META HTTP-EQUIV=\"Pragma\" CONTENT=\"no-cache\">\\r\\n  <TITLE>e-MedSolution</TITLE>\\r\\n</HEAD>\\r\\n\\r\\n\\r\\n\\r\\n<SCRIPT>\\r\\n\\tvar mainFuncLib = parent.mainFuncLib;\\r\\n\\tvar newWindow = window.open(\"\", \"\", \"menubar=no,resizable=yes,width=\" + (Math.min(screen.availWidth, 1024) - 10) + \",height=\" + (Math.min(screen.availHeight, 768) - 30) + \",top=0,left=0\");\\t\\r\\n\\tnewWindow.document.open( \"text/html\", \"replace\");\\r\\n\\tnewWindow.document.writeln(\\'<!DOCTYPE HTML PUBLIC \"-//W3C//DTD HTML 4.0 Frameset//EN\">\\');\\r\\n\\tnewWindow.document.writeln(\\'<HTML>\\');\\r\\n\\tnewWindow.document.writeln(\\'<HEAD>\\');\\r\\n\\tnewWindow.document.writeln(\\'<SCRIPT>\\');\\r\\n\\tnewWindow.document.writeln(\\'var mainFuncLib = parent.mainFuncLib;\\');\\r\\n\\tnewWindow.document.writeln(\\'var strError = \"\";\\');\\r\\n\\tnewWindow.document.writeln(\\'var actUser = \"\";\\');\\r\\n\\tnewWindow.document.writeln(\\'</\\' + \\'SCRIPT>\\' );\\r\\n\\tnewWindow.document.writeln(\\'</HEAD>\\');\\r\\n\\tnewWindow.document.writeln(\\'<FRAMESET rows=\"30%,70%\" framespacing=\"0\" border=\"0\" frameborder=\"no\" >\\');\\r\\n\\tnewWindow.document.writeln(\\'<FRAME name=\"headerFrm\" src=\"/szote/jsp/Hospital.jsp\" noresize frameborder=\"0\" border=\"1\" scrolling=\"no\" bordercolor=\"black\">\\');\\r\\n\\t\\r\\n\\t\\tnewWindow.document.writeln(\\'<FRAME name=\"loginFrm\" src=\"/szote/jsp/Login.jsp\" frameborder=\"0\" border=\"1\" scrolling=\"no\" bordercolor=\"black\">\\');\\r\\n\\t\\r\\n\\tnewWindow.document.writeln(\\'</FRAMESET>\\');\\r\\n\\tnewWindow.document.writeln(\\'</HTML>\\');\\r\\n\\tnewWindow.document.close();\\r\\n\\t\\r\\n\\twindow.opener = null;\\r\\n\\tif (window.chrome) {\\r\\n\\t\\twindow.close();\\r\\n\\t} else {\\r\\n\\t\\twindow.open(\\'\\',\\'_self\\').close();\\r\\n\\t}\\r\\n</SCRIPT>\\r\\n\\r\\n\\r\\n\\r\\n</HTML>\\r\\n'"
      ]
     },
     "execution_count": 39,
     "metadata": {},
     "output_type": "execute_result"
    }
   ],
   "source": [
    "r.content"
   ]
  },
  {
   "cell_type": "code",
   "execution_count": 40,
   "metadata": {},
   "outputs": [
    {
     "ename": "UnidentifiedImageError",
     "evalue": "cannot identify image file <_io.BytesIO object at 0x000001F5EE11B9C0>",
     "output_type": "error",
     "traceback": [
      "\u001b[1;31m---------------------------------------------------------------------------\u001b[0m",
      "\u001b[1;31mUnidentifiedImageError\u001b[0m                    Traceback (most recent call last)",
      "\u001b[1;32mc:\\Users\\User\\Desktop\\cta\\medsol.ipynb Cell 5\u001b[0m in \u001b[0;36m<cell line: 4>\u001b[1;34m()\u001b[0m\n\u001b[0;32m      <a href='vscode-notebook-cell:/c%3A/Users/User/Desktop/cta/medsol.ipynb#W4sZmlsZQ%3D%3D?line=0'>1</a>\u001b[0m \u001b[39mfrom\u001b[39;00m \u001b[39mPIL\u001b[39;00m \u001b[39mimport\u001b[39;00m Image\n\u001b[0;32m      <a href='vscode-notebook-cell:/c%3A/Users/User/Desktop/cta/medsol.ipynb#W4sZmlsZQ%3D%3D?line=1'>2</a>\u001b[0m \u001b[39mfrom\u001b[39;00m \u001b[39mio\u001b[39;00m \u001b[39mimport\u001b[39;00m BytesIO\n\u001b[1;32m----> <a href='vscode-notebook-cell:/c%3A/Users/User/Desktop/cta/medsol.ipynb#W4sZmlsZQ%3D%3D?line=3'>4</a>\u001b[0m i \u001b[39m=\u001b[39m Image\u001b[39m.\u001b[39;49mopen(BytesIO(r\u001b[39m.\u001b[39;49mcontent))\n",
      "File \u001b[1;32mc:\\Users\\User\\AppData\\Local\\Programs\\Python\\Python310\\lib\\site-packages\\PIL\\Image.py:3147\u001b[0m, in \u001b[0;36mopen\u001b[1;34m(fp, mode, formats)\u001b[0m\n\u001b[0;32m   3145\u001b[0m \u001b[39mfor\u001b[39;00m message \u001b[39min\u001b[39;00m accept_warnings:\n\u001b[0;32m   3146\u001b[0m     warnings\u001b[39m.\u001b[39mwarn(message)\n\u001b[1;32m-> 3147\u001b[0m \u001b[39mraise\u001b[39;00m UnidentifiedImageError(\n\u001b[0;32m   3148\u001b[0m     \u001b[39m\"\u001b[39m\u001b[39mcannot identify image file \u001b[39m\u001b[39m%r\u001b[39;00m\u001b[39m\"\u001b[39m \u001b[39m%\u001b[39m (filename \u001b[39mif\u001b[39;00m filename \u001b[39melse\u001b[39;00m fp)\n\u001b[0;32m   3149\u001b[0m )\n",
      "\u001b[1;31mUnidentifiedImageError\u001b[0m: cannot identify image file <_io.BytesIO object at 0x000001F5EE11B9C0>"
     ]
    }
   ],
   "source": [
    "from PIL import Image\n",
    "from io import BytesIO\n",
    "\n",
    "i = Image.open(BytesIO(r.content))"
   ]
  }
 ],
 "metadata": {
  "kernelspec": {
   "display_name": "Python 3.10.5 64-bit",
   "language": "python",
   "name": "python3"
  },
  "language_info": {
   "codemirror_mode": {
    "name": "ipython",
    "version": 3
   },
   "file_extension": ".py",
   "mimetype": "text/x-python",
   "name": "python",
   "nbconvert_exporter": "python",
   "pygments_lexer": "ipython3",
   "version": "3.10.5"
  },
  "orig_nbformat": 4,
  "vscode": {
   "interpreter": {
    "hash": "afb734500600fd355917ca529030176ea0ca205570884b88f2f6f7d791fd3fbe"
   }
  }
 },
 "nbformat": 4,
 "nbformat_minor": 2
}
